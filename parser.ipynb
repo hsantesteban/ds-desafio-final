{
 "cells": [
  {
   "cell_type": "code",
   "execution_count": 4,
   "metadata": {},
   "outputs": [],
   "source": [
    "import numpy as np\n",
    "import pandas as pd"
   ]
  },
  {
   "cell_type": "code",
   "execution_count": 2,
   "metadata": {},
   "outputs": [
    {
     "name": "stderr",
     "output_type": "stream",
     "text": [
      "C:\\Users\\herna\\anaconda3\\envs\\cygnus\\lib\\site-packages\\IPython\\core\\interactiveshell.py:3146: DtypeWarning: Columns (11,12) have mixed types.Specify dtype option on import or set low_memory=False.\n",
      "  has_raised = await self.run_ast_nodes(code_ast.body, cell_name,\n"
     ]
    }
   ],
   "source": [
    "df_a = pd.read_csv('dataset_a_original.csv', encoding = 'ISO-8859-1')"
   ]
  },
  {
   "cell_type": "code",
   "execution_count": 4,
   "metadata": {},
   "outputs": [],
   "source": [
    "df_a['Date'] = pd.to_datetime(df_a['Date'])"
   ]
  },
  {
   "cell_type": "code",
   "execution_count": 5,
   "metadata": {},
   "outputs": [],
   "source": [
    "def cast_number(n):\n",
    "    try:\n",
    "        return float(n)\n",
    "    except:\n",
    "        return np.nan\n",
    "df_a['WRank'] = df_a['WRank'].apply(lambda x: cast_number(x))\n",
    "df_a['LRank'] = df_a['LRank'].apply(lambda x: cast_number(x))"
   ]
  },
  {
   "cell_type": "code",
   "execution_count": 6,
   "metadata": {},
   "outputs": [],
   "source": [
    "df_a['Location'] = df_a['Location'].apply(lambda x: x.replace(\"'\", ''))"
   ]
  },
  {
   "cell_type": "code",
   "execution_count": 1,
   "metadata": {},
   "outputs": [
    {
     "ename": "NameError",
     "evalue": "name 'df_a' is not defined",
     "output_type": "error",
     "traceback": [
      "\u001b[1;31m---------------------------------------------------------------------------\u001b[0m",
      "\u001b[1;31mNameError\u001b[0m                                 Traceback (most recent call last)",
      "\u001b[1;32m<ipython-input-1-3091c01ba1a0>\u001b[0m in \u001b[0;36m<module>\u001b[1;34m\u001b[0m\n\u001b[1;32m----> 1\u001b[1;33m \u001b[0mdf_a\u001b[0m\u001b[1;33m.\u001b[0m\u001b[0mto_csv\u001b[0m\u001b[1;33m(\u001b[0m\u001b[0mpath_or_buf\u001b[0m\u001b[1;33m=\u001b[0m\u001b[1;34m'dataset_1_parsed.csv'\u001b[0m\u001b[1;33m,\u001b[0m \u001b[0msep\u001b[0m\u001b[1;33m=\u001b[0m\u001b[1;34m','\u001b[0m\u001b[1;33m,\u001b[0m \u001b[0mindex\u001b[0m\u001b[1;33m=\u001b[0m\u001b[1;32mFalse\u001b[0m\u001b[1;33m,\u001b[0m \u001b[0mheader\u001b[0m\u001b[1;33m=\u001b[0m\u001b[1;32mFalse\u001b[0m\u001b[1;33m,\u001b[0m \u001b[1;33m)\u001b[0m\u001b[1;33m\u001b[0m\u001b[1;33m\u001b[0m\u001b[0m\n\u001b[0m",
      "\u001b[1;31mNameError\u001b[0m: name 'df_a' is not defined"
     ]
    }
   ],
   "source": [
    "df_a.to_csv(path_or_buf='dataset_1_parsed.csv', sep=',', index=False, header=False, )"
   ]
  },
  {
   "cell_type": "code",
   "execution_count": 20,
   "metadata": {},
   "outputs": [],
   "source": [
    "df_b = pd.read_csv('dataset_b_original.csv')"
   ]
  },
  {
   "cell_type": "code",
   "execution_count": 97,
   "metadata": {},
   "outputs": [
    {
     "name": "stdout",
     "output_type": "stream",
     "text": [
      "7-6(10) 7-6(1)\n",
      "{'winner_sets_won': 2, 'loser_sets_won': 0, 'winner_games_won': 14, 'winner_games_lost': 12, 'loser_games_won': 12, 'loser_games_lost': 14, 'winner_games_set_1': 7, 'loser_games_set_1': 6, 'winner_sets_lost': 0, 'loser_sets_lost': 2, 'winner_games_set_2': 7, 'loser_games_set_2': 6}\n",
      "12-10 7-5 4-6 7-5\n",
      "{'winner_sets_won': 3, 'loser_sets_won': 1, 'winner_games_won': 30, 'winner_games_lost': 26, 'loser_games_won': 26, 'loser_games_lost': 30, 'winner_games_set_1': 12, 'loser_games_set_1': 10, 'winner_sets_lost': 1, 'loser_sets_lost': 3, 'winner_games_set_2': 7, 'loser_games_set_2': 5, 'winner_games_set_3': 4, 'loser_games_set_3': 6, 'winner_games_set_4': 7, 'loser_games_set_4': 5}\n"
     ]
    }
   ],
   "source": [
    "def score_parser(score):\n",
    "    \"\"\"\n",
    "    Sample inputs: \n",
    "        - 7-6(10) 7-6(1)\n",
    "        - 12-10 7-5 4-6 7-5\n",
    "    \"\"\"\n",
    "    \n",
    "    # results container.\n",
    "    parsed_score = {\n",
    "        'winner_sets_won': 0,\n",
    "        'loser_sets_won': 0,\n",
    "        'winner_games_won': 0,\n",
    "        'winner_games_lost': 0,\n",
    "        'loser_games_won': 0,\n",
    "        'loser_games_lost': 0\n",
    "    }\n",
    "    \n",
    "    # split score by separator.\n",
    "    score_list = score.split(' ')\n",
    "    \n",
    "    # iterate sets\n",
    "    for index, match_set in enumerate(score_list):\n",
    "        # check []\n",
    "        if '[' in match_set or ']' or match_set:\n",
    "            match_set = match_set.replace('[', '')\n",
    "            match_set = match_set.replace(']', '')\n",
    "        # get games for each player.\n",
    "        games_a, games_b = match_set.split('-')\n",
    "        # check for tiebreak.\n",
    "        if '(' in games_b:\n",
    "            # extract tiebreak score.\n",
    "            tiebreak_score = int(games_b[games_b.index('(')+1 : games_b.index(')')])\n",
    "            # update games_b string to remove tiebreak.\n",
    "            games_b = games_b[0: games_b.index('(')]\n",
    "        # cast all to int.\n",
    "        games_a = int(games_a)\n",
    "        games_b = int(games_b)\n",
    "        # parse set stats.   \n",
    "        parsed_score[f'winner_games_set_{index+1}'] = games_a\n",
    "        parsed_score[f'loser_games_set_{index+1}'] = games_b   \n",
    "        parsed_score['winner_games_won'] = parsed_score['winner_games_won'] + games_a\n",
    "        parsed_score['loser_games_won'] = parsed_score['loser_games_won'] + games_b\n",
    "        parsed_score['winner_games_lost'] = parsed_score['loser_games_won']\n",
    "        parsed_score['loser_games_lost'] = parsed_score['winner_games_won']\n",
    "        if games_a >= 6 or games_b >= 6:\n",
    "            parsed_score['winner_sets_won'] = parsed_score['winner_sets_won'] + 1 if games_a > games_b else parsed_score['winner_sets_won']\n",
    "            parsed_score['loser_sets_won'] = parsed_score['loser_sets_won'] + 1 if games_a < games_b else parsed_score['loser_sets_won']\n",
    "            parsed_score['winner_sets_lost'] = parsed_score['loser_sets_won']\n",
    "            parsed_score['loser_sets_lost'] = parsed_score['winner_sets_won']\n",
    "    \n",
    "    return parsed_score\n",
    "\n",
    "for test in ['7-6(10) 7-6(1)', '12-10 7-5 4-6 7-5']:\n",
    "    print(test)\n",
    "    print(score_parser(test))"
   ]
  },
  {
   "cell_type": "code",
   "execution_count": 98,
   "metadata": {},
   "outputs": [],
   "source": [
    "match_statistics = []\n",
    "\n",
    "for index, row in df_b[['tourney_id', 'match_num', 'score']].iterrows():\n",
    "    score = row[2]\n",
    "    if not isinstance(score, str):\n",
    "        continue\n",
    "    if 'W/O' in score:\n",
    "        continue\n",
    "    if 'Walkover' in score:\n",
    "        continue\n",
    "    if 'In Progress' in score:\n",
    "        continue\n",
    "    if 'Played and unfinished' in score:\n",
    "        continue\n",
    "    if 'Default' in score:\n",
    "        continue\n",
    "    if 'Played and abandoned' in score:\n",
    "        continue\n",
    "    if 'Unfinished' in score:\n",
    "        continue\n",
    "    if 'RET' in score:\n",
    "        continue\n",
    "    if 'DEF' in score:\n",
    "        continue\n",
    "    if 'ABD' in score:\n",
    "        continue\n",
    "    if 'ABN' in score:\n",
    "        continue\n",
    "    # \n",
    "    try:\n",
    "        parsed_match = score_parser(score.strip())\n",
    "        parsed_match['tournament_id'] = row[0]\n",
    "        parsed_match['match_num'] = row[1]\n",
    "        match_statistics.append(parsed_match)\n",
    "    except:\n",
    "        continue"
   ]
  },
  {
   "cell_type": "code",
   "execution_count": 99,
   "metadata": {},
   "outputs": [],
   "source": [
    "match_statistics_df = pd.DataFrame(match_statistics)"
   ]
  },
  {
   "cell_type": "code",
   "execution_count": 100,
   "metadata": {},
   "outputs": [],
   "source": [
    "match_statistics_df[\n",
    "    ['tournament_id', 'match_num', \n",
    "     'winner_games_set_1', 'loser_games_set_1', \n",
    "     'winner_games_set_2', 'loser_games_set_2', \n",
    "     'winner_games_set_3', 'loser_games_set_3', \n",
    "     'winner_games_set_4', 'loser_games_set_4', \n",
    "     'winner_games_set_5', 'loser_games_set_5',\n",
    "     'winner_games_won', 'winner_games_lost',\n",
    "     'loser_games_won', 'loser_games_lost',\n",
    "     'winner_sets_won', 'winner_sets_lost',\n",
    "     'loser_sets_won', 'loser_sets_lost'\n",
    "    ]\n",
    "].to_csv('match_statistics.csv', sep=',', index=False, header=False)"
   ]
  },
  {
   "cell_type": "code",
   "execution_count": 94,
   "metadata": {},
   "outputs": [
    {
     "data": {
      "text/plain": [
       "Index(['winner_sets_won', 'loser_sets_won', 'winner_games_set_1',\n",
       "       'loser_games_set_1', 'winner_sets_lost', 'loser_sets_lost',\n",
       "       'winner_games_set_2', 'loser_games_set_2', 'winner_games_set_3',\n",
       "       'loser_games_set_3', 'winner_games_set_4', 'loser_games_set_4',\n",
       "       'tournament_id', 'match_num', 'winner_games_set_5',\n",
       "       'loser_games_set_5'],\n",
       "      dtype='object')"
      ]
     },
     "execution_count": 94,
     "metadata": {},
     "output_type": "execute_result"
    }
   ],
   "source": [
    "match_statistics_df.columns"
   ]
  },
  {
   "cell_type": "code",
   "execution_count": 24,
   "metadata": {},
   "outputs": [
    {
     "data": {
      "text/plain": [
       "<bound method Series.unique of 0         12-10 7-5 4-6 7-5\n",
       "1               6-3 6-2 6-4\n",
       "2           6-4 3-6 6-3 7-5\n",
       "3               6-4 6-2 6-1\n",
       "4               6-4 6-1 7-5\n",
       "                ...        \n",
       "169685          4-6 6-4 6-4\n",
       "169686              6-1 6-1\n",
       "169687       7-6(10) 7-6(1)\n",
       "169688              6-4 6-4\n",
       "169689              7-5 6-3\n",
       "Name: score, Length: 169690, dtype: object>"
      ]
     },
     "execution_count": 24,
     "metadata": {},
     "output_type": "execute_result"
    }
   ],
   "source": [
    "df_b['score'].unique\n",
    "#match_statistics = []"
   ]
  },
  {
   "cell_type": "code",
   "execution_count": 8,
   "metadata": {},
   "outputs": [
    {
     "data": {
      "text/plain": [
       "0        1968-01-19\n",
       "1        1968-01-19\n",
       "2        1968-01-19\n",
       "3        1968-01-19\n",
       "4        1968-01-19\n",
       "            ...    \n",
       "169685   2019-02-25\n",
       "169686   2019-02-25\n",
       "169687   2019-02-25\n",
       "169688   2019-02-25\n",
       "169689   2019-02-25\n",
       "Name: tourney_date, Length: 169690, dtype: datetime64[ns]"
      ]
     },
     "execution_count": 8,
     "metadata": {},
     "output_type": "execute_result"
    }
   ],
   "source": [
    "df_b['tourney_name'] = df_b['tourney_name'].apply(lambda x: x.replace(\"'\", ''))\n",
    "df_b['tourney_date'] = df_b['tourney_date'].apply(lambda x: f'{str(x)[0:4]}-{str(x)[4:6]}-{str(x)[6:8]}')\n",
    "df_b['tourney_date'] = pd.to_datetime(df_b['tourney_date'])\n",
    "df_b['tourney_date']"
   ]
  },
  {
   "cell_type": "code",
   "execution_count": 9,
   "metadata": {},
   "outputs": [],
   "source": [
    "df_b.to_csv(path_or_buf='dataset_b_parsed.csv', sep=',', index=False, header=False, )"
   ]
  }
 ],
 "metadata": {
  "kernelspec": {
   "display_name": "Python 3",
   "language": "python",
   "name": "python3"
  },
  "language_info": {
   "codemirror_mode": {
    "name": "ipython",
    "version": 3
   },
   "file_extension": ".py",
   "mimetype": "text/x-python",
   "name": "python",
   "nbconvert_exporter": "python",
   "pygments_lexer": "ipython3",
   "version": "3.8.5"
  }
 },
 "nbformat": 4,
 "nbformat_minor": 4
}
