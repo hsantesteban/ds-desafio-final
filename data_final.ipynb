{
 "cells": [
  {
   "cell_type": "code",
   "execution_count": 1,
   "metadata": {},
   "outputs": [],
   "source": [
    "import numpy as np\n",
    "import pandas as pd\n",
    "from matplotlib import pyplot as plt"
   ]
  },
  {
   "cell_type": "code",
   "execution_count": 2,
   "metadata": {},
   "outputs": [],
   "source": [
    "from sklearn.preprocessing import LabelEncoder\n",
    "encoder = LabelEncoder()"
   ]
  },
  {
   "cell_type": "code",
   "execution_count": 3,
   "metadata": {},
   "outputs": [
    {
     "data": {
      "text/html": [
       "<div>\n",
       "<style scoped>\n",
       "    .dataframe tbody tr th:only-of-type {\n",
       "        vertical-align: middle;\n",
       "    }\n",
       "\n",
       "    .dataframe tbody tr th {\n",
       "        vertical-align: top;\n",
       "    }\n",
       "\n",
       "    .dataframe thead th {\n",
       "        text-align: right;\n",
       "    }\n",
       "</style>\n",
       "<table border=\"1\" class=\"dataframe\">\n",
       "  <thead>\n",
       "    <tr style=\"text-align: right;\">\n",
       "      <th></th>\n",
       "      <th>Unnamed: 0</th>\n",
       "      <th>tournament_id</th>\n",
       "      <th>tournament_match_num</th>\n",
       "      <th>player_id_x</th>\n",
       "      <th>player_id_y</th>\n",
       "      <th>player_age_x</th>\n",
       "      <th>player_age_y</th>\n",
       "      <th>player_hand_x</th>\n",
       "      <th>player_hand_y</th>\n",
       "      <th>player_rank_x</th>\n",
       "      <th>...</th>\n",
       "      <th>career_matches_won_y</th>\n",
       "      <th>career_matches_lost_y</th>\n",
       "      <th>career_matches_played_y</th>\n",
       "      <th>career_tournaments_won_y</th>\n",
       "      <th>career_tournaments_lost_y</th>\n",
       "      <th>career_tournaments_played_y</th>\n",
       "      <th>career_right_handed_won_y</th>\n",
       "      <th>career_right_handed_lost_y</th>\n",
       "      <th>career_left_handed_won_y</th>\n",
       "      <th>career_left_handed_lost_y</th>\n",
       "    </tr>\n",
       "  </thead>\n",
       "  <tbody>\n",
       "    <tr>\n",
       "      <th>0</th>\n",
       "      <td>1</td>\n",
       "      <td>2014-328</td>\n",
       "      <td>4</td>\n",
       "      <td>105777</td>\n",
       "      <td>100644</td>\n",
       "      <td>23.43</td>\n",
       "      <td>17.50</td>\n",
       "      <td>R</td>\n",
       "      <td>R</td>\n",
       "      <td>11.0</td>\n",
       "      <td>...</td>\n",
       "      <td>4</td>\n",
       "      <td>6</td>\n",
       "      <td>10</td>\n",
       "      <td>0</td>\n",
       "      <td>6</td>\n",
       "      <td>6</td>\n",
       "      <td>4</td>\n",
       "      <td>5</td>\n",
       "      <td>0</td>\n",
       "      <td>1</td>\n",
       "    </tr>\n",
       "    <tr>\n",
       "      <th>1</th>\n",
       "      <td>5</td>\n",
       "      <td>2015-403</td>\n",
       "      <td>7</td>\n",
       "      <td>105032</td>\n",
       "      <td>100644</td>\n",
       "      <td>27.43</td>\n",
       "      <td>17.93</td>\n",
       "      <td>R</td>\n",
       "      <td>R</td>\n",
       "      <td>69.0</td>\n",
       "      <td>...</td>\n",
       "      <td>4</td>\n",
       "      <td>10</td>\n",
       "      <td>14</td>\n",
       "      <td>0</td>\n",
       "      <td>10</td>\n",
       "      <td>10</td>\n",
       "      <td>4</td>\n",
       "      <td>9</td>\n",
       "      <td>0</td>\n",
       "      <td>1</td>\n",
       "    </tr>\n",
       "    <tr>\n",
       "      <th>2</th>\n",
       "      <td>9</td>\n",
       "      <td>2015-403</td>\n",
       "      <td>39</td>\n",
       "      <td>104586</td>\n",
       "      <td>100644</td>\n",
       "      <td>29.67</td>\n",
       "      <td>17.93</td>\n",
       "      <td>R</td>\n",
       "      <td>R</td>\n",
       "      <td>30.0</td>\n",
       "      <td>...</td>\n",
       "      <td>5</td>\n",
       "      <td>10</td>\n",
       "      <td>15</td>\n",
       "      <td>0</td>\n",
       "      <td>10</td>\n",
       "      <td>10</td>\n",
       "      <td>5</td>\n",
       "      <td>9</td>\n",
       "      <td>0</td>\n",
       "      <td>1</td>\n",
       "    </tr>\n",
       "    <tr>\n",
       "      <th>3</th>\n",
       "      <td>13</td>\n",
       "      <td>2015-308</td>\n",
       "      <td>8</td>\n",
       "      <td>103794</td>\n",
       "      <td>100644</td>\n",
       "      <td>33.86</td>\n",
       "      <td>18.02</td>\n",
       "      <td>R</td>\n",
       "      <td>R</td>\n",
       "      <td>43.0</td>\n",
       "      <td>...</td>\n",
       "      <td>5</td>\n",
       "      <td>11</td>\n",
       "      <td>16</td>\n",
       "      <td>0</td>\n",
       "      <td>11</td>\n",
       "      <td>11</td>\n",
       "      <td>5</td>\n",
       "      <td>10</td>\n",
       "      <td>0</td>\n",
       "      <td>1</td>\n",
       "    </tr>\n",
       "    <tr>\n",
       "      <th>4</th>\n",
       "      <td>17</td>\n",
       "      <td>2015-308</td>\n",
       "      <td>17</td>\n",
       "      <td>104259</td>\n",
       "      <td>100644</td>\n",
       "      <td>31.53</td>\n",
       "      <td>18.02</td>\n",
       "      <td>R</td>\n",
       "      <td>R</td>\n",
       "      <td>26.0</td>\n",
       "      <td>...</td>\n",
       "      <td>6</td>\n",
       "      <td>11</td>\n",
       "      <td>17</td>\n",
       "      <td>0</td>\n",
       "      <td>11</td>\n",
       "      <td>11</td>\n",
       "      <td>6</td>\n",
       "      <td>10</td>\n",
       "      <td>0</td>\n",
       "      <td>1</td>\n",
       "    </tr>\n",
       "  </tbody>\n",
       "</table>\n",
       "<p>5 rows × 97 columns</p>\n",
       "</div>"
      ],
      "text/plain": [
       "   Unnamed: 0 tournament_id  tournament_match_num  player_id_x  player_id_y  \\\n",
       "0           1      2014-328                     4       105777       100644   \n",
       "1           5      2015-403                     7       105032       100644   \n",
       "2           9      2015-403                    39       104586       100644   \n",
       "3          13      2015-308                     8       103794       100644   \n",
       "4          17      2015-308                    17       104259       100644   \n",
       "\n",
       "   player_age_x  player_age_y player_hand_x player_hand_y  player_rank_x  ...  \\\n",
       "0         23.43         17.50             R             R           11.0  ...   \n",
       "1         27.43         17.93             R             R           69.0  ...   \n",
       "2         29.67         17.93             R             R           30.0  ...   \n",
       "3         33.86         18.02             R             R           43.0  ...   \n",
       "4         31.53         18.02             R             R           26.0  ...   \n",
       "\n",
       "   career_matches_won_y career_matches_lost_y career_matches_played_y  \\\n",
       "0                     4                     6                      10   \n",
       "1                     4                    10                      14   \n",
       "2                     5                    10                      15   \n",
       "3                     5                    11                      16   \n",
       "4                     6                    11                      17   \n",
       "\n",
       "   career_tournaments_won_y  career_tournaments_lost_y  \\\n",
       "0                         0                          6   \n",
       "1                         0                         10   \n",
       "2                         0                         10   \n",
       "3                         0                         11   \n",
       "4                         0                         11   \n",
       "\n",
       "   career_tournaments_played_y  career_right_handed_won_y  \\\n",
       "0                            6                          4   \n",
       "1                           10                          4   \n",
       "2                           10                          5   \n",
       "3                           11                          5   \n",
       "4                           11                          6   \n",
       "\n",
       "   career_right_handed_lost_y  career_left_handed_won_y  \\\n",
       "0                           5                         0   \n",
       "1                           9                         0   \n",
       "2                           9                         0   \n",
       "3                          10                         0   \n",
       "4                          10                         0   \n",
       "\n",
       "   career_left_handed_lost_y  \n",
       "0                          1  \n",
       "1                          1  \n",
       "2                          1  \n",
       "3                          1  \n",
       "4                          1  \n",
       "\n",
       "[5 rows x 97 columns]"
      ]
     },
     "execution_count": 3,
     "metadata": {},
     "output_type": "execute_result"
    }
   ],
   "source": [
    "data = pd.read_csv('dataset_tenis.csv')\n",
    "data.head()"
   ]
  },
  {
   "cell_type": "code",
   "execution_count": 4,
   "metadata": {},
   "outputs": [
    {
     "name": "stdout",
     "output_type": "stream",
     "text": [
      "<class 'pandas.core.frame.DataFrame'>\n",
      "RangeIndex: 44505 entries, 0 to 44504\n",
      "Data columns (total 97 columns):\n",
      " #   Column                               Non-Null Count  Dtype  \n",
      "---  ------                               --------------  -----  \n",
      " 0   Unnamed: 0                           44505 non-null  int64  \n",
      " 1   tournament_id                        44505 non-null  object \n",
      " 2   tournament_match_num                 44505 non-null  int64  \n",
      " 3   player_id_x                          44505 non-null  int64  \n",
      " 4   player_id_y                          44505 non-null  int64  \n",
      " 5   player_age_x                         44505 non-null  float64\n",
      " 6   player_age_y                         44505 non-null  float64\n",
      " 7   player_hand_x                        44505 non-null  object \n",
      " 8   player_hand_y                        44505 non-null  object \n",
      " 9   player_rank_x                        44448 non-null  float64\n",
      " 10  player_rank_y                        44437 non-null  float64\n",
      " 11  tournament_match_result_x            44505 non-null  object \n",
      " 12  tournament_match_surface_x           44505 non-null  object \n",
      " 13  tournament_sets_won_x                42832 non-null  float64\n",
      " 14  tournament_sets_lost_x               42832 non-null  float64\n",
      " 15  tournament_sets_played_x             42832 non-null  float64\n",
      " 16  tournament_games_won_x               42832 non-null  float64\n",
      " 17  tournament_games_lost_x              42832 non-null  float64\n",
      " 18  tournament_games_played_x            42832 non-null  float64\n",
      " 19  tournament_player_seed_x             27352 non-null  float64\n",
      " 20  tournament_minutes_played_x          42832 non-null  float64\n",
      " 21  season_sets_won_x                    44505 non-null  int64  \n",
      " 22  season_sets_lost_x                   44505 non-null  int64  \n",
      " 23  season_sets_played_x                 44505 non-null  int64  \n",
      " 24  season_games_won_x                   44505 non-null  int64  \n",
      " 25  season_games_lost_x                  44505 non-null  int64  \n",
      " 26  season_games_played_x                44505 non-null  int64  \n",
      " 27  season_matches_won_x                 44505 non-null  int64  \n",
      " 28  season_matches_lost_x                44505 non-null  int64  \n",
      " 29  season_matches_played_x              44505 non-null  int64  \n",
      " 30  season_tournaments_won_x             44505 non-null  int64  \n",
      " 31  season_tournaments_lost_x            44505 non-null  int64  \n",
      " 32  season_tournaments_played_x          44505 non-null  int64  \n",
      " 33  season_tournaments_finals_x          44505 non-null  int64  \n",
      " 34  season_tournaments_semifinals_x      44505 non-null  int64  \n",
      " 35  season_surface_matches_won_x         44505 non-null  int64  \n",
      " 36  season_surface_matches_lost_x        44505 non-null  int64  \n",
      " 37  season_surface_matches_played_x      44505 non-null  int64  \n",
      " 38  career_surface_matches_won_x         44505 non-null  int64  \n",
      " 39  career_surface_matches_lost_x        44505 non-null  int64  \n",
      " 40  career_surface_matches_played_x      44505 non-null  int64  \n",
      " 41  career_surface_tournaments_won_x     44505 non-null  int64  \n",
      " 42  career_surface_tournaments_lost_x    44505 non-null  int64  \n",
      " 43  career_surface_tournaments_played_x  44505 non-null  int64  \n",
      " 44  career_matches_won_x                 44505 non-null  int64  \n",
      " 45  career_matches_lost_x                44505 non-null  int64  \n",
      " 46  career_matches_played_x              44505 non-null  int64  \n",
      " 47  career_tournaments_won_x             44505 non-null  int64  \n",
      " 48  career_tournaments_lost_x            44505 non-null  int64  \n",
      " 49  career_tournaments_played_x          44505 non-null  int64  \n",
      " 50  career_right_handed_won_x            44505 non-null  int64  \n",
      " 51  career_right_handed_lost_x           44505 non-null  int64  \n",
      " 52  career_left_handed_won_x             44505 non-null  int64  \n",
      " 53  career_left_handed_lost_x            44505 non-null  int64  \n",
      " 54  tournament_match_result_y            44505 non-null  object \n",
      " 55  tournament_match_surface_y           44505 non-null  object \n",
      " 56  tournament_sets_won_y                42832 non-null  float64\n",
      " 57  tournament_sets_lost_y               42832 non-null  float64\n",
      " 58  tournament_sets_played_y             42832 non-null  float64\n",
      " 59  tournament_games_won_y               42832 non-null  float64\n",
      " 60  tournament_games_lost_y              42832 non-null  float64\n",
      " 61  tournament_games_played_y            42832 non-null  float64\n",
      " 62  tournament_player_seed_y             4899 non-null   float64\n",
      " 63  tournament_minutes_played_y          42832 non-null  float64\n",
      " 64  season_sets_won_y                    44505 non-null  int64  \n",
      " 65  season_sets_lost_y                   44505 non-null  int64  \n",
      " 66  season_sets_played_y                 44505 non-null  int64  \n",
      " 67  season_games_won_y                   44505 non-null  int64  \n",
      " 68  season_games_lost_y                  44505 non-null  int64  \n",
      " 69  season_games_played_y                44505 non-null  int64  \n",
      " 70  season_matches_won_y                 44505 non-null  int64  \n",
      " 71  season_matches_lost_y                44505 non-null  int64  \n",
      " 72  season_matches_played_y              44505 non-null  int64  \n",
      " 73  season_tournaments_won_y             44505 non-null  int64  \n",
      " 74  season_tournaments_lost_y            44505 non-null  int64  \n",
      " 75  season_tournaments_played_y          44505 non-null  int64  \n",
      " 76  season_tournaments_finals_y          44505 non-null  int64  \n",
      " 77  season_tournaments_semifinals_y      44505 non-null  int64  \n",
      " 78  season_surface_matches_won_y         44505 non-null  int64  \n",
      " 79  season_surface_matches_lost_y        44505 non-null  int64  \n",
      " 80  season_surface_matches_played_y      44505 non-null  int64  \n",
      " 81  career_surface_matches_won_y         44505 non-null  int64  \n",
      " 82  career_surface_matches_lost_y        44505 non-null  int64  \n",
      " 83  career_surface_matches_played_y      44505 non-null  int64  \n",
      " 84  career_surface_tournaments_won_y     44505 non-null  int64  \n",
      " 85  career_surface_tournaments_lost_y    44505 non-null  int64  \n",
      " 86  career_surface_tournaments_played_y  44505 non-null  int64  \n",
      " 87  career_matches_won_y                 44505 non-null  int64  \n",
      " 88  career_matches_lost_y                44505 non-null  int64  \n",
      " 89  career_matches_played_y              44505 non-null  int64  \n",
      " 90  career_tournaments_won_y             44505 non-null  int64  \n",
      " 91  career_tournaments_lost_y            44505 non-null  int64  \n",
      " 92  career_tournaments_played_y          44505 non-null  int64  \n",
      " 93  career_right_handed_won_y            44505 non-null  int64  \n",
      " 94  career_right_handed_lost_y           44505 non-null  int64  \n",
      " 95  career_left_handed_won_y             44505 non-null  int64  \n",
      " 96  career_left_handed_lost_y            44505 non-null  int64  \n",
      "dtypes: float64(20), int64(70), object(7)\n",
      "memory usage: 32.9+ MB\n"
     ]
    }
   ],
   "source": [
    "data.info()"
   ]
  },
  {
   "cell_type": "code",
   "execution_count": 5,
   "metadata": {},
   "outputs": [],
   "source": [
    "# Preparamos las Labels\n",
    "\n",
    "data = pd.get_dummies(data, columns = ['tournament_match_result_x'])\n",
    "data.drop(columns = 'tournament_match_result_x_L', inplace = True)\n",
    "data.rename(columns={\"tournament_match_result_x_W\": \"Label\"}, inplace = True)"
   ]
  },
  {
   "cell_type": "code",
   "execution_count": 6,
   "metadata": {},
   "outputs": [
    {
     "name": "stdout",
     "output_type": "stream",
     "text": [
      "<class 'pandas.core.frame.DataFrame'>\n",
      "RangeIndex: 44505 entries, 0 to 44504\n",
      "Data columns (total 89 columns):\n",
      " #   Column                               Non-Null Count  Dtype  \n",
      "---  ------                               --------------  -----  \n",
      " 0   player_age_x                         44505 non-null  float64\n",
      " 1   player_age_y                         44505 non-null  float64\n",
      " 2   player_hand_x                        44505 non-null  object \n",
      " 3   player_hand_y                        44505 non-null  object \n",
      " 4   player_rank_x                        44448 non-null  float64\n",
      " 5   player_rank_y                        44437 non-null  float64\n",
      " 6   tournament_match_surface_x           44505 non-null  object \n",
      " 7   tournament_sets_won_x                42832 non-null  float64\n",
      " 8   tournament_sets_lost_x               42832 non-null  float64\n",
      " 9   tournament_sets_played_x             42832 non-null  float64\n",
      " 10  tournament_games_won_x               42832 non-null  float64\n",
      " 11  tournament_games_lost_x              42832 non-null  float64\n",
      " 12  tournament_games_played_x            42832 non-null  float64\n",
      " 13  tournament_minutes_played_x          42832 non-null  float64\n",
      " 14  season_sets_won_x                    44505 non-null  int64  \n",
      " 15  season_sets_lost_x                   44505 non-null  int64  \n",
      " 16  season_sets_played_x                 44505 non-null  int64  \n",
      " 17  season_games_won_x                   44505 non-null  int64  \n",
      " 18  season_games_lost_x                  44505 non-null  int64  \n",
      " 19  season_games_played_x                44505 non-null  int64  \n",
      " 20  season_matches_won_x                 44505 non-null  int64  \n",
      " 21  season_matches_lost_x                44505 non-null  int64  \n",
      " 22  season_matches_played_x              44505 non-null  int64  \n",
      " 23  season_tournaments_won_x             44505 non-null  int64  \n",
      " 24  season_tournaments_lost_x            44505 non-null  int64  \n",
      " 25  season_tournaments_played_x          44505 non-null  int64  \n",
      " 26  season_tournaments_finals_x          44505 non-null  int64  \n",
      " 27  season_tournaments_semifinals_x      44505 non-null  int64  \n",
      " 28  season_surface_matches_won_x         44505 non-null  int64  \n",
      " 29  season_surface_matches_lost_x        44505 non-null  int64  \n",
      " 30  season_surface_matches_played_x      44505 non-null  int64  \n",
      " 31  career_surface_matches_won_x         44505 non-null  int64  \n",
      " 32  career_surface_matches_lost_x        44505 non-null  int64  \n",
      " 33  career_surface_matches_played_x      44505 non-null  int64  \n",
      " 34  career_surface_tournaments_won_x     44505 non-null  int64  \n",
      " 35  career_surface_tournaments_lost_x    44505 non-null  int64  \n",
      " 36  career_surface_tournaments_played_x  44505 non-null  int64  \n",
      " 37  career_matches_won_x                 44505 non-null  int64  \n",
      " 38  career_matches_lost_x                44505 non-null  int64  \n",
      " 39  career_matches_played_x              44505 non-null  int64  \n",
      " 40  career_tournaments_won_x             44505 non-null  int64  \n",
      " 41  career_tournaments_lost_x            44505 non-null  int64  \n",
      " 42  career_tournaments_played_x          44505 non-null  int64  \n",
      " 43  career_right_handed_won_x            44505 non-null  int64  \n",
      " 44  career_right_handed_lost_x           44505 non-null  int64  \n",
      " 45  career_left_handed_won_x             44505 non-null  int64  \n",
      " 46  career_left_handed_lost_x            44505 non-null  int64  \n",
      " 47  tournament_match_surface_y           44505 non-null  object \n",
      " 48  tournament_sets_won_y                42832 non-null  float64\n",
      " 49  tournament_sets_lost_y               42832 non-null  float64\n",
      " 50  tournament_sets_played_y             42832 non-null  float64\n",
      " 51  tournament_games_won_y               42832 non-null  float64\n",
      " 52  tournament_games_lost_y              42832 non-null  float64\n",
      " 53  tournament_games_played_y            42832 non-null  float64\n",
      " 54  tournament_minutes_played_y          42832 non-null  float64\n",
      " 55  season_sets_won_y                    44505 non-null  int64  \n",
      " 56  season_sets_lost_y                   44505 non-null  int64  \n",
      " 57  season_sets_played_y                 44505 non-null  int64  \n",
      " 58  season_games_won_y                   44505 non-null  int64  \n",
      " 59  season_games_lost_y                  44505 non-null  int64  \n",
      " 60  season_games_played_y                44505 non-null  int64  \n",
      " 61  season_matches_won_y                 44505 non-null  int64  \n",
      " 62  season_matches_lost_y                44505 non-null  int64  \n",
      " 63  season_matches_played_y              44505 non-null  int64  \n",
      " 64  season_tournaments_won_y             44505 non-null  int64  \n",
      " 65  season_tournaments_lost_y            44505 non-null  int64  \n",
      " 66  season_tournaments_played_y          44505 non-null  int64  \n",
      " 67  season_tournaments_finals_y          44505 non-null  int64  \n",
      " 68  season_tournaments_semifinals_y      44505 non-null  int64  \n",
      " 69  season_surface_matches_won_y         44505 non-null  int64  \n",
      " 70  season_surface_matches_lost_y        44505 non-null  int64  \n",
      " 71  season_surface_matches_played_y      44505 non-null  int64  \n",
      " 72  career_surface_matches_won_y         44505 non-null  int64  \n",
      " 73  career_surface_matches_lost_y        44505 non-null  int64  \n",
      " 74  career_surface_matches_played_y      44505 non-null  int64  \n",
      " 75  career_surface_tournaments_won_y     44505 non-null  int64  \n",
      " 76  career_surface_tournaments_lost_y    44505 non-null  int64  \n",
      " 77  career_surface_tournaments_played_y  44505 non-null  int64  \n",
      " 78  career_matches_won_y                 44505 non-null  int64  \n",
      " 79  career_matches_lost_y                44505 non-null  int64  \n",
      " 80  career_matches_played_y              44505 non-null  int64  \n",
      " 81  career_tournaments_won_y             44505 non-null  int64  \n",
      " 82  career_tournaments_lost_y            44505 non-null  int64  \n",
      " 83  career_tournaments_played_y          44505 non-null  int64  \n",
      " 84  career_right_handed_won_y            44505 non-null  int64  \n",
      " 85  career_right_handed_lost_y           44505 non-null  int64  \n",
      " 86  career_left_handed_won_y             44505 non-null  int64  \n",
      " 87  career_left_handed_lost_y            44505 non-null  int64  \n",
      " 88  Label                                44505 non-null  uint8  \n",
      "dtypes: float64(18), int64(66), object(4), uint8(1)\n",
      "memory usage: 29.9+ MB\n"
     ]
    }
   ],
   "source": [
    "# Primer Filtro de columnas a ojo\n",
    "\n",
    "columnas_drop = ['Unnamed: 0','tournament_id','tournament_match_num','player_id_x','player_id_y',\n",
    "'tournament_player_seed_x','tournament_player_seed_y','tournament_match_result_y']\n",
    "\n",
    "data = data.drop(columns=columnas_drop)\n",
    "data.info()"
   ]
  },
  {
   "cell_type": "code",
   "execution_count": 7,
   "metadata": {},
   "outputs": [
    {
     "data": {
      "text/plain": [
       "pandas.core.frame.DataFrame"
      ]
     },
     "execution_count": 7,
     "metadata": {},
     "output_type": "execute_result"
    }
   ],
   "source": [
    "type(data)"
   ]
  },
  {
   "cell_type": "markdown",
   "metadata": {},
   "source": [
    "### Sacamos nulos"
   ]
  },
  {
   "cell_type": "code",
   "execution_count": 8,
   "metadata": {},
   "outputs": [
    {
     "name": "stdout",
     "output_type": "stream",
     "text": [
      "<class 'pandas.core.frame.DataFrame'>\n",
      "Int64Index: 42709 entries, 0 to 44504\n",
      "Data columns (total 89 columns):\n",
      " #   Column                               Non-Null Count  Dtype  \n",
      "---  ------                               --------------  -----  \n",
      " 0   player_age_x                         42709 non-null  float64\n",
      " 1   player_age_y                         42709 non-null  float64\n",
      " 2   player_hand_x                        42709 non-null  object \n",
      " 3   player_hand_y                        42709 non-null  object \n",
      " 4   player_rank_x                        42709 non-null  float64\n",
      " 5   player_rank_y                        42709 non-null  float64\n",
      " 6   tournament_match_surface_x           42709 non-null  object \n",
      " 7   tournament_sets_won_x                42709 non-null  float64\n",
      " 8   tournament_sets_lost_x               42709 non-null  float64\n",
      " 9   tournament_sets_played_x             42709 non-null  float64\n",
      " 10  tournament_games_won_x               42709 non-null  float64\n",
      " 11  tournament_games_lost_x              42709 non-null  float64\n",
      " 12  tournament_games_played_x            42709 non-null  float64\n",
      " 13  tournament_minutes_played_x          42709 non-null  float64\n",
      " 14  season_sets_won_x                    42709 non-null  int64  \n",
      " 15  season_sets_lost_x                   42709 non-null  int64  \n",
      " 16  season_sets_played_x                 42709 non-null  int64  \n",
      " 17  season_games_won_x                   42709 non-null  int64  \n",
      " 18  season_games_lost_x                  42709 non-null  int64  \n",
      " 19  season_games_played_x                42709 non-null  int64  \n",
      " 20  season_matches_won_x                 42709 non-null  int64  \n",
      " 21  season_matches_lost_x                42709 non-null  int64  \n",
      " 22  season_matches_played_x              42709 non-null  int64  \n",
      " 23  season_tournaments_won_x             42709 non-null  int64  \n",
      " 24  season_tournaments_lost_x            42709 non-null  int64  \n",
      " 25  season_tournaments_played_x          42709 non-null  int64  \n",
      " 26  season_tournaments_finals_x          42709 non-null  int64  \n",
      " 27  season_tournaments_semifinals_x      42709 non-null  int64  \n",
      " 28  season_surface_matches_won_x         42709 non-null  int64  \n",
      " 29  season_surface_matches_lost_x        42709 non-null  int64  \n",
      " 30  season_surface_matches_played_x      42709 non-null  int64  \n",
      " 31  career_surface_matches_won_x         42709 non-null  int64  \n",
      " 32  career_surface_matches_lost_x        42709 non-null  int64  \n",
      " 33  career_surface_matches_played_x      42709 non-null  int64  \n",
      " 34  career_surface_tournaments_won_x     42709 non-null  int64  \n",
      " 35  career_surface_tournaments_lost_x    42709 non-null  int64  \n",
      " 36  career_surface_tournaments_played_x  42709 non-null  int64  \n",
      " 37  career_matches_won_x                 42709 non-null  int64  \n",
      " 38  career_matches_lost_x                42709 non-null  int64  \n",
      " 39  career_matches_played_x              42709 non-null  int64  \n",
      " 40  career_tournaments_won_x             42709 non-null  int64  \n",
      " 41  career_tournaments_lost_x            42709 non-null  int64  \n",
      " 42  career_tournaments_played_x          42709 non-null  int64  \n",
      " 43  career_right_handed_won_x            42709 non-null  int64  \n",
      " 44  career_right_handed_lost_x           42709 non-null  int64  \n",
      " 45  career_left_handed_won_x             42709 non-null  int64  \n",
      " 46  career_left_handed_lost_x            42709 non-null  int64  \n",
      " 47  tournament_match_surface_y           42709 non-null  object \n",
      " 48  tournament_sets_won_y                42709 non-null  float64\n",
      " 49  tournament_sets_lost_y               42709 non-null  float64\n",
      " 50  tournament_sets_played_y             42709 non-null  float64\n",
      " 51  tournament_games_won_y               42709 non-null  float64\n",
      " 52  tournament_games_lost_y              42709 non-null  float64\n",
      " 53  tournament_games_played_y            42709 non-null  float64\n",
      " 54  tournament_minutes_played_y          42709 non-null  float64\n",
      " 55  season_sets_won_y                    42709 non-null  int64  \n",
      " 56  season_sets_lost_y                   42709 non-null  int64  \n",
      " 57  season_sets_played_y                 42709 non-null  int64  \n",
      " 58  season_games_won_y                   42709 non-null  int64  \n",
      " 59  season_games_lost_y                  42709 non-null  int64  \n",
      " 60  season_games_played_y                42709 non-null  int64  \n",
      " 61  season_matches_won_y                 42709 non-null  int64  \n",
      " 62  season_matches_lost_y                42709 non-null  int64  \n",
      " 63  season_matches_played_y              42709 non-null  int64  \n",
      " 64  season_tournaments_won_y             42709 non-null  int64  \n",
      " 65  season_tournaments_lost_y            42709 non-null  int64  \n",
      " 66  season_tournaments_played_y          42709 non-null  int64  \n",
      " 67  season_tournaments_finals_y          42709 non-null  int64  \n",
      " 68  season_tournaments_semifinals_y      42709 non-null  int64  \n",
      " 69  season_surface_matches_won_y         42709 non-null  int64  \n",
      " 70  season_surface_matches_lost_y        42709 non-null  int64  \n",
      " 71  season_surface_matches_played_y      42709 non-null  int64  \n",
      " 72  career_surface_matches_won_y         42709 non-null  int64  \n",
      " 73  career_surface_matches_lost_y        42709 non-null  int64  \n",
      " 74  career_surface_matches_played_y      42709 non-null  int64  \n",
      " 75  career_surface_tournaments_won_y     42709 non-null  int64  \n",
      " 76  career_surface_tournaments_lost_y    42709 non-null  int64  \n",
      " 77  career_surface_tournaments_played_y  42709 non-null  int64  \n",
      " 78  career_matches_won_y                 42709 non-null  int64  \n",
      " 79  career_matches_lost_y                42709 non-null  int64  \n",
      " 80  career_matches_played_y              42709 non-null  int64  \n",
      " 81  career_tournaments_won_y             42709 non-null  int64  \n",
      " 82  career_tournaments_lost_y            42709 non-null  int64  \n",
      " 83  career_tournaments_played_y          42709 non-null  int64  \n",
      " 84  career_right_handed_won_y            42709 non-null  int64  \n",
      " 85  career_right_handed_lost_y           42709 non-null  int64  \n",
      " 86  career_left_handed_won_y             42709 non-null  int64  \n",
      " 87  career_left_handed_lost_y            42709 non-null  int64  \n",
      " 88  Label                                42709 non-null  uint8  \n",
      "dtypes: float64(18), int64(66), object(4), uint8(1)\n",
      "memory usage: 29.0+ MB\n"
     ]
    }
   ],
   "source": [
    "# sacamos nulos\n",
    "\n",
    "data = data.dropna()\n",
    "data.info()"
   ]
  },
  {
   "cell_type": "code",
   "execution_count": 9,
   "metadata": {},
   "outputs": [
    {
     "name": "stdout",
     "output_type": "stream",
     "text": [
      "<class 'pandas.core.frame.DataFrame'>\n",
      "Int64Index: 42709 entries, 0 to 44504\n",
      "Data columns (total 99 columns):\n",
      " #   Column                               Non-Null Count  Dtype  \n",
      "---  ------                               --------------  -----  \n",
      " 0   player_age_x                         42709 non-null  float64\n",
      " 1   player_age_y                         42709 non-null  float64\n",
      " 2   player_rank_x                        42709 non-null  float64\n",
      " 3   player_rank_y                        42709 non-null  float64\n",
      " 4   tournament_sets_won_x                42709 non-null  float64\n",
      " 5   tournament_sets_lost_x               42709 non-null  float64\n",
      " 6   tournament_sets_played_x             42709 non-null  float64\n",
      " 7   tournament_games_won_x               42709 non-null  float64\n",
      " 8   tournament_games_lost_x              42709 non-null  float64\n",
      " 9   tournament_games_played_x            42709 non-null  float64\n",
      " 10  tournament_minutes_played_x          42709 non-null  float64\n",
      " 11  season_sets_won_x                    42709 non-null  int64  \n",
      " 12  season_sets_lost_x                   42709 non-null  int64  \n",
      " 13  season_sets_played_x                 42709 non-null  int64  \n",
      " 14  season_games_won_x                   42709 non-null  int64  \n",
      " 15  season_games_lost_x                  42709 non-null  int64  \n",
      " 16  season_games_played_x                42709 non-null  int64  \n",
      " 17  season_matches_won_x                 42709 non-null  int64  \n",
      " 18  season_matches_lost_x                42709 non-null  int64  \n",
      " 19  season_matches_played_x              42709 non-null  int64  \n",
      " 20  season_tournaments_won_x             42709 non-null  int64  \n",
      " 21  season_tournaments_lost_x            42709 non-null  int64  \n",
      " 22  season_tournaments_played_x          42709 non-null  int64  \n",
      " 23  season_tournaments_finals_x          42709 non-null  int64  \n",
      " 24  season_tournaments_semifinals_x      42709 non-null  int64  \n",
      " 25  season_surface_matches_won_x         42709 non-null  int64  \n",
      " 26  season_surface_matches_lost_x        42709 non-null  int64  \n",
      " 27  season_surface_matches_played_x      42709 non-null  int64  \n",
      " 28  career_surface_matches_won_x         42709 non-null  int64  \n",
      " 29  career_surface_matches_lost_x        42709 non-null  int64  \n",
      " 30  career_surface_matches_played_x      42709 non-null  int64  \n",
      " 31  career_surface_tournaments_won_x     42709 non-null  int64  \n",
      " 32  career_surface_tournaments_lost_x    42709 non-null  int64  \n",
      " 33  career_surface_tournaments_played_x  42709 non-null  int64  \n",
      " 34  career_matches_won_x                 42709 non-null  int64  \n",
      " 35  career_matches_lost_x                42709 non-null  int64  \n",
      " 36  career_matches_played_x              42709 non-null  int64  \n",
      " 37  career_tournaments_won_x             42709 non-null  int64  \n",
      " 38  career_tournaments_lost_x            42709 non-null  int64  \n",
      " 39  career_tournaments_played_x          42709 non-null  int64  \n",
      " 40  career_right_handed_won_x            42709 non-null  int64  \n",
      " 41  career_right_handed_lost_x           42709 non-null  int64  \n",
      " 42  career_left_handed_won_x             42709 non-null  int64  \n",
      " 43  career_left_handed_lost_x            42709 non-null  int64  \n",
      " 44  tournament_sets_won_y                42709 non-null  float64\n",
      " 45  tournament_sets_lost_y               42709 non-null  float64\n",
      " 46  tournament_sets_played_y             42709 non-null  float64\n",
      " 47  tournament_games_won_y               42709 non-null  float64\n",
      " 48  tournament_games_lost_y              42709 non-null  float64\n",
      " 49  tournament_games_played_y            42709 non-null  float64\n",
      " 50  tournament_minutes_played_y          42709 non-null  float64\n",
      " 51  season_sets_won_y                    42709 non-null  int64  \n",
      " 52  season_sets_lost_y                   42709 non-null  int64  \n",
      " 53  season_sets_played_y                 42709 non-null  int64  \n",
      " 54  season_games_won_y                   42709 non-null  int64  \n",
      " 55  season_games_lost_y                  42709 non-null  int64  \n",
      " 56  season_games_played_y                42709 non-null  int64  \n",
      " 57  season_matches_won_y                 42709 non-null  int64  \n",
      " 58  season_matches_lost_y                42709 non-null  int64  \n",
      " 59  season_matches_played_y              42709 non-null  int64  \n",
      " 60  season_tournaments_won_y             42709 non-null  int64  \n",
      " 61  season_tournaments_lost_y            42709 non-null  int64  \n",
      " 62  season_tournaments_played_y          42709 non-null  int64  \n",
      " 63  season_tournaments_finals_y          42709 non-null  int64  \n",
      " 64  season_tournaments_semifinals_y      42709 non-null  int64  \n",
      " 65  season_surface_matches_won_y         42709 non-null  int64  \n",
      " 66  season_surface_matches_lost_y        42709 non-null  int64  \n",
      " 67  season_surface_matches_played_y      42709 non-null  int64  \n",
      " 68  career_surface_matches_won_y         42709 non-null  int64  \n",
      " 69  career_surface_matches_lost_y        42709 non-null  int64  \n",
      " 70  career_surface_matches_played_y      42709 non-null  int64  \n",
      " 71  career_surface_tournaments_won_y     42709 non-null  int64  \n",
      " 72  career_surface_tournaments_lost_y    42709 non-null  int64  \n",
      " 73  career_surface_tournaments_played_y  42709 non-null  int64  \n",
      " 74  career_matches_won_y                 42709 non-null  int64  \n",
      " 75  career_matches_lost_y                42709 non-null  int64  \n",
      " 76  career_matches_played_y              42709 non-null  int64  \n",
      " 77  career_tournaments_won_y             42709 non-null  int64  \n",
      " 78  career_tournaments_lost_y            42709 non-null  int64  \n",
      " 79  career_tournaments_played_y          42709 non-null  int64  \n",
      " 80  career_right_handed_won_y            42709 non-null  int64  \n",
      " 81  career_right_handed_lost_y           42709 non-null  int64  \n",
      " 82  career_left_handed_won_y             42709 non-null  int64  \n",
      " 83  career_left_handed_lost_y            42709 non-null  int64  \n",
      " 84  Label                                42709 non-null  uint8  \n",
      " 85  player_hand_x_L                      42709 non-null  uint8  \n",
      " 86  player_hand_x_R                      42709 non-null  uint8  \n",
      " 87  player_hand_x_U                      42709 non-null  uint8  \n",
      " 88  player_hand_y_L                      42709 non-null  uint8  \n",
      " 89  player_hand_y_R                      42709 non-null  uint8  \n",
      " 90  player_hand_y_U                      42709 non-null  uint8  \n",
      " 91  tournament_match_surface_x_Carpet    42709 non-null  uint8  \n",
      " 92  tournament_match_surface_x_Clay      42709 non-null  uint8  \n",
      " 93  tournament_match_surface_x_Grass     42709 non-null  uint8  \n",
      " 94  tournament_match_surface_x_Hard      42709 non-null  uint8  \n",
      " 95  tournament_match_surface_y_Carpet    42709 non-null  uint8  \n",
      " 96  tournament_match_surface_y_Clay      42709 non-null  uint8  \n",
      " 97  tournament_match_surface_y_Grass     42709 non-null  uint8  \n",
      " 98  tournament_match_surface_y_Hard      42709 non-null  uint8  \n",
      "dtypes: float64(18), int64(66), uint8(15)\n",
      "memory usage: 28.3 MB\n"
     ]
    }
   ],
   "source": [
    "# Preparamos dummys\n",
    "dummy_cols = data.select_dtypes(include=['object'])\n",
    "object_columns = dummy_cols.columns\n",
    "object_columns\n",
    "\n",
    "data =pd.get_dummies(data,columns=object_columns)\n",
    "data.info()"
   ]
  },
  {
   "cell_type": "code",
   "execution_count": 10,
   "metadata": {},
   "outputs": [],
   "source": [
    "# separamos features y label\n",
    "\n",
    "data = data.reset_index()\n",
    "data_x = data.drop(columns='Label')\n",
    "data_y = data['Label']"
   ]
  },
  {
   "cell_type": "code",
   "execution_count": 11,
   "metadata": {},
   "outputs": [
    {
     "name": "stdout",
     "output_type": "stream",
     "text": [
      "<class 'pandas.core.frame.DataFrame'>\n",
      "RangeIndex: 42709 entries, 0 to 42708\n",
      "Data columns (total 99 columns):\n",
      " #   Column                               Non-Null Count  Dtype  \n",
      "---  ------                               --------------  -----  \n",
      " 0   index                                42709 non-null  int64  \n",
      " 1   player_age_x                         42709 non-null  float64\n",
      " 2   player_age_y                         42709 non-null  float64\n",
      " 3   player_rank_x                        42709 non-null  float64\n",
      " 4   player_rank_y                        42709 non-null  float64\n",
      " 5   tournament_sets_won_x                42709 non-null  float64\n",
      " 6   tournament_sets_lost_x               42709 non-null  float64\n",
      " 7   tournament_sets_played_x             42709 non-null  float64\n",
      " 8   tournament_games_won_x               42709 non-null  float64\n",
      " 9   tournament_games_lost_x              42709 non-null  float64\n",
      " 10  tournament_games_played_x            42709 non-null  float64\n",
      " 11  tournament_minutes_played_x          42709 non-null  float64\n",
      " 12  season_sets_won_x                    42709 non-null  int64  \n",
      " 13  season_sets_lost_x                   42709 non-null  int64  \n",
      " 14  season_sets_played_x                 42709 non-null  int64  \n",
      " 15  season_games_won_x                   42709 non-null  int64  \n",
      " 16  season_games_lost_x                  42709 non-null  int64  \n",
      " 17  season_games_played_x                42709 non-null  int64  \n",
      " 18  season_matches_won_x                 42709 non-null  int64  \n",
      " 19  season_matches_lost_x                42709 non-null  int64  \n",
      " 20  season_matches_played_x              42709 non-null  int64  \n",
      " 21  season_tournaments_won_x             42709 non-null  int64  \n",
      " 22  season_tournaments_lost_x            42709 non-null  int64  \n",
      " 23  season_tournaments_played_x          42709 non-null  int64  \n",
      " 24  season_tournaments_finals_x          42709 non-null  int64  \n",
      " 25  season_tournaments_semifinals_x      42709 non-null  int64  \n",
      " 26  season_surface_matches_won_x         42709 non-null  int64  \n",
      " 27  season_surface_matches_lost_x        42709 non-null  int64  \n",
      " 28  season_surface_matches_played_x      42709 non-null  int64  \n",
      " 29  career_surface_matches_won_x         42709 non-null  int64  \n",
      " 30  career_surface_matches_lost_x        42709 non-null  int64  \n",
      " 31  career_surface_matches_played_x      42709 non-null  int64  \n",
      " 32  career_surface_tournaments_won_x     42709 non-null  int64  \n",
      " 33  career_surface_tournaments_lost_x    42709 non-null  int64  \n",
      " 34  career_surface_tournaments_played_x  42709 non-null  int64  \n",
      " 35  career_matches_won_x                 42709 non-null  int64  \n",
      " 36  career_matches_lost_x                42709 non-null  int64  \n",
      " 37  career_matches_played_x              42709 non-null  int64  \n",
      " 38  career_tournaments_won_x             42709 non-null  int64  \n",
      " 39  career_tournaments_lost_x            42709 non-null  int64  \n",
      " 40  career_tournaments_played_x          42709 non-null  int64  \n",
      " 41  career_right_handed_won_x            42709 non-null  int64  \n",
      " 42  career_right_handed_lost_x           42709 non-null  int64  \n",
      " 43  career_left_handed_won_x             42709 non-null  int64  \n",
      " 44  career_left_handed_lost_x            42709 non-null  int64  \n",
      " 45  tournament_sets_won_y                42709 non-null  float64\n",
      " 46  tournament_sets_lost_y               42709 non-null  float64\n",
      " 47  tournament_sets_played_y             42709 non-null  float64\n",
      " 48  tournament_games_won_y               42709 non-null  float64\n",
      " 49  tournament_games_lost_y              42709 non-null  float64\n",
      " 50  tournament_games_played_y            42709 non-null  float64\n",
      " 51  tournament_minutes_played_y          42709 non-null  float64\n",
      " 52  season_sets_won_y                    42709 non-null  int64  \n",
      " 53  season_sets_lost_y                   42709 non-null  int64  \n",
      " 54  season_sets_played_y                 42709 non-null  int64  \n",
      " 55  season_games_won_y                   42709 non-null  int64  \n",
      " 56  season_games_lost_y                  42709 non-null  int64  \n",
      " 57  season_games_played_y                42709 non-null  int64  \n",
      " 58  season_matches_won_y                 42709 non-null  int64  \n",
      " 59  season_matches_lost_y                42709 non-null  int64  \n",
      " 60  season_matches_played_y              42709 non-null  int64  \n",
      " 61  season_tournaments_won_y             42709 non-null  int64  \n",
      " 62  season_tournaments_lost_y            42709 non-null  int64  \n",
      " 63  season_tournaments_played_y          42709 non-null  int64  \n",
      " 64  season_tournaments_finals_y          42709 non-null  int64  \n",
      " 65  season_tournaments_semifinals_y      42709 non-null  int64  \n",
      " 66  season_surface_matches_won_y         42709 non-null  int64  \n",
      " 67  season_surface_matches_lost_y        42709 non-null  int64  \n",
      " 68  season_surface_matches_played_y      42709 non-null  int64  \n",
      " 69  career_surface_matches_won_y         42709 non-null  int64  \n",
      " 70  career_surface_matches_lost_y        42709 non-null  int64  \n",
      " 71  career_surface_matches_played_y      42709 non-null  int64  \n",
      " 72  career_surface_tournaments_won_y     42709 non-null  int64  \n",
      " 73  career_surface_tournaments_lost_y    42709 non-null  int64  \n",
      " 74  career_surface_tournaments_played_y  42709 non-null  int64  \n",
      " 75  career_matches_won_y                 42709 non-null  int64  \n",
      " 76  career_matches_lost_y                42709 non-null  int64  \n",
      " 77  career_matches_played_y              42709 non-null  int64  \n",
      " 78  career_tournaments_won_y             42709 non-null  int64  \n",
      " 79  career_tournaments_lost_y            42709 non-null  int64  \n",
      " 80  career_tournaments_played_y          42709 non-null  int64  \n",
      " 81  career_right_handed_won_y            42709 non-null  int64  \n",
      " 82  career_right_handed_lost_y           42709 non-null  int64  \n",
      " 83  career_left_handed_won_y             42709 non-null  int64  \n",
      " 84  career_left_handed_lost_y            42709 non-null  int64  \n",
      " 85  player_hand_x_L                      42709 non-null  uint8  \n",
      " 86  player_hand_x_R                      42709 non-null  uint8  \n",
      " 87  player_hand_x_U                      42709 non-null  uint8  \n",
      " 88  player_hand_y_L                      42709 non-null  uint8  \n",
      " 89  player_hand_y_R                      42709 non-null  uint8  \n",
      " 90  player_hand_y_U                      42709 non-null  uint8  \n",
      " 91  tournament_match_surface_x_Carpet    42709 non-null  uint8  \n",
      " 92  tournament_match_surface_x_Clay      42709 non-null  uint8  \n",
      " 93  tournament_match_surface_x_Grass     42709 non-null  uint8  \n",
      " 94  tournament_match_surface_x_Hard      42709 non-null  uint8  \n",
      " 95  tournament_match_surface_y_Carpet    42709 non-null  uint8  \n",
      " 96  tournament_match_surface_y_Clay      42709 non-null  uint8  \n",
      " 97  tournament_match_surface_y_Grass     42709 non-null  uint8  \n",
      " 98  tournament_match_surface_y_Hard      42709 non-null  uint8  \n",
      "dtypes: float64(18), int64(67), uint8(14)\n",
      "memory usage: 28.3 MB\n"
     ]
    }
   ],
   "source": [
    "data_x.info()"
   ]
  },
  {
   "cell_type": "markdown",
   "metadata": {},
   "source": [
    "# Dataset Base"
   ]
  },
  {
   "cell_type": "code",
   "execution_count": 12,
   "metadata": {},
   "outputs": [],
   "source": [
    "from sklearn.model_selection import train_test_split\n",
    "\n",
    "X_train, X_test, y_train, y_test = train_test_split(data_x, data_y, test_size=0.2,random_state=0)"
   ]
  },
  {
   "cell_type": "code",
   "execution_count": 13,
   "metadata": {},
   "outputs": [
    {
     "data": {
      "text/plain": [
       "(34167, 99)"
      ]
     },
     "execution_count": 13,
     "metadata": {},
     "output_type": "execute_result"
    }
   ],
   "source": [
    "X_train.shape"
   ]
  },
  {
   "cell_type": "code",
   "execution_count": 14,
   "metadata": {},
   "outputs": [
    {
     "name": "stdout",
     "output_type": "stream",
     "text": [
      "La matriz de confusión es: \n",
      " [[ 623 2249]\n",
      " [ 552 5118]] \n",
      "y su correspondiente accuracy es: 0.6720908452353079\n",
      "\n",
      "-----------------------------\n",
      "\n"
     ]
    }
   ],
   "source": [
    "from sklearn.metrics import confusion_matrix\n",
    "from sklearn.ensemble import RandomForestClassifier\n",
    "from sklearn.metrics import accuracy_score\n",
    "from sklearn.metrics import confusion_matrix\n",
    "\n",
    "X_train, X_test, y_train, y_test = train_test_split(data_x, data_y, test_size=0.2,random_state=0)\n",
    "\n",
    "rf_clf_full = RandomForestClassifier(n_estimators=1000, \n",
    "                                     n_jobs=-1, \n",
    "                                     random_state=42)\n",
    "rf_clf_full.fit(X_train, y_train)\n",
    "\n",
    "confusion_rf = confusion_matrix(y_test, rf_clf_full.predict(X_test))\n",
    "accuracy_rf = accuracy_score(y_test, rf_clf_full.predict(X_test))\n",
    "\n",
    "print(f'La matriz de confusión es: ' '\\n', confusion_rf,'\\n' 'y su correspondiente accuracy es:' ,accuracy_rf)\n",
    "print('\\n-----------------------------\\n')"
   ]
  },
  {
   "cell_type": "markdown",
   "metadata": {},
   "source": [
    "# Dataset sub1 - PCA"
   ]
  },
  {
   "cell_type": "markdown",
   "metadata": {},
   "source": [
    "Dataset sub1: Del dataset original tomo las bariables dummys y le aplicamos PCA"
   ]
  },
  {
   "cell_type": "code",
   "execution_count": 15,
   "metadata": {},
   "outputs": [
    {
     "data": {
      "text/plain": [
       "((42709, 99), (42709, 85), (42709, 14))"
      ]
     },
     "execution_count": 15,
     "metadata": {},
     "output_type": "execute_result"
    }
   ],
   "source": [
    "data_x_dummys = data_x.select_dtypes(include='uint8')\n",
    "data_x_SIN_dummys = data_x.select_dtypes(exclude='uint8')\n",
    "\n",
    "data_x.shape, data_x_SIN_dummys.shape, data_x_dummys.shape"
   ]
  },
  {
   "cell_type": "code",
   "execution_count": 16,
   "metadata": {},
   "outputs": [
    {
     "data": {
      "text/html": [
       "<div>\n",
       "<style scoped>\n",
       "    .dataframe tbody tr th:only-of-type {\n",
       "        vertical-align: middle;\n",
       "    }\n",
       "\n",
       "    .dataframe tbody tr th {\n",
       "        vertical-align: top;\n",
       "    }\n",
       "\n",
       "    .dataframe thead th {\n",
       "        text-align: right;\n",
       "    }\n",
       "</style>\n",
       "<table border=\"1\" class=\"dataframe\">\n",
       "  <thead>\n",
       "    <tr style=\"text-align: right;\">\n",
       "      <th></th>\n",
       "      <th>0</th>\n",
       "      <th>1</th>\n",
       "      <th>2</th>\n",
       "      <th>3</th>\n",
       "    </tr>\n",
       "  </thead>\n",
       "  <tbody>\n",
       "    <tr>\n",
       "      <th>0</th>\n",
       "      <td>-0.793892</td>\n",
       "      <td>-0.136195</td>\n",
       "      <td>-0.192948</td>\n",
       "      <td>-0.162030</td>\n",
       "    </tr>\n",
       "    <tr>\n",
       "      <th>1</th>\n",
       "      <td>-0.793892</td>\n",
       "      <td>-0.136195</td>\n",
       "      <td>-0.192948</td>\n",
       "      <td>-0.162030</td>\n",
       "    </tr>\n",
       "    <tr>\n",
       "      <th>2</th>\n",
       "      <td>-0.793892</td>\n",
       "      <td>-0.136195</td>\n",
       "      <td>-0.192948</td>\n",
       "      <td>-0.162030</td>\n",
       "    </tr>\n",
       "    <tr>\n",
       "      <th>3</th>\n",
       "      <td>1.197688</td>\n",
       "      <td>-0.315569</td>\n",
       "      <td>-0.198147</td>\n",
       "      <td>-0.196521</td>\n",
       "    </tr>\n",
       "    <tr>\n",
       "      <th>4</th>\n",
       "      <td>1.197688</td>\n",
       "      <td>-0.315569</td>\n",
       "      <td>-0.198147</td>\n",
       "      <td>-0.196521</td>\n",
       "    </tr>\n",
       "    <tr>\n",
       "      <th>...</th>\n",
       "      <td>...</td>\n",
       "      <td>...</td>\n",
       "      <td>...</td>\n",
       "      <td>...</td>\n",
       "    </tr>\n",
       "    <tr>\n",
       "      <th>42704</th>\n",
       "      <td>1.209663</td>\n",
       "      <td>-0.325790</td>\n",
       "      <td>-0.191972</td>\n",
       "      <td>0.515028</td>\n",
       "    </tr>\n",
       "    <tr>\n",
       "      <th>42705</th>\n",
       "      <td>-0.791064</td>\n",
       "      <td>-0.135133</td>\n",
       "      <td>0.536896</td>\n",
       "      <td>-0.164157</td>\n",
       "    </tr>\n",
       "    <tr>\n",
       "      <th>42706</th>\n",
       "      <td>1.209663</td>\n",
       "      <td>-0.325790</td>\n",
       "      <td>-0.191972</td>\n",
       "      <td>0.515028</td>\n",
       "    </tr>\n",
       "    <tr>\n",
       "      <th>42707</th>\n",
       "      <td>-0.793892</td>\n",
       "      <td>-0.136195</td>\n",
       "      <td>-0.192948</td>\n",
       "      <td>-0.162030</td>\n",
       "    </tr>\n",
       "    <tr>\n",
       "      <th>42708</th>\n",
       "      <td>-0.791064</td>\n",
       "      <td>-0.135133</td>\n",
       "      <td>0.536896</td>\n",
       "      <td>-0.164157</td>\n",
       "    </tr>\n",
       "  </tbody>\n",
       "</table>\n",
       "<p>42709 rows × 4 columns</p>\n",
       "</div>"
      ],
      "text/plain": [
       "              0         1         2         3\n",
       "0     -0.793892 -0.136195 -0.192948 -0.162030\n",
       "1     -0.793892 -0.136195 -0.192948 -0.162030\n",
       "2     -0.793892 -0.136195 -0.192948 -0.162030\n",
       "3      1.197688 -0.315569 -0.198147 -0.196521\n",
       "4      1.197688 -0.315569 -0.198147 -0.196521\n",
       "...         ...       ...       ...       ...\n",
       "42704  1.209663 -0.325790 -0.191972  0.515028\n",
       "42705 -0.791064 -0.135133  0.536896 -0.164157\n",
       "42706  1.209663 -0.325790 -0.191972  0.515028\n",
       "42707 -0.793892 -0.136195 -0.192948 -0.162030\n",
       "42708 -0.791064 -0.135133  0.536896 -0.164157\n",
       "\n",
       "[42709 rows x 4 columns]"
      ]
     },
     "execution_count": 16,
     "metadata": {},
     "output_type": "execute_result"
    }
   ],
   "source": [
    "from sklearn.decomposition import PCA\n",
    "\n",
    "pca = PCA(n_components=0.95)\n",
    "data_pca = pd.DataFrame(pca.fit_transform(data_x_dummys))\n",
    "data_pca"
   ]
  },
  {
   "cell_type": "code",
   "execution_count": 17,
   "metadata": {},
   "outputs": [
    {
     "name": "stdout",
     "output_type": "stream",
     "text": [
      "(42709, 85) (42709, 4)\n"
     ]
    },
    {
     "data": {
      "text/plain": [
       "(42709, 89)"
      ]
     },
     "execution_count": 17,
     "metadata": {},
     "output_type": "execute_result"
    }
   ],
   "source": [
    "data_sub_pca = pd.concat([data_x_SIN_dummys,data_pca],axis=1)\n",
    "print(data_x_SIN_dummys.shape,data_pca.shape)\n",
    "\n",
    "data_sub_pca.shape"
   ]
  },
  {
   "cell_type": "markdown",
   "metadata": {},
   "source": [
    "# Dataset Sub 2 - Feature Importance"
   ]
  },
  {
   "cell_type": "markdown",
   "metadata": {},
   "source": [
    "A partir de un arbol simple utilizaremos el ´feature_importance´ para a partir de un threshold eliminar columnas"
   ]
  },
  {
   "cell_type": "code",
   "execution_count": 18,
   "metadata": {},
   "outputs": [
    {
     "data": {
      "text/plain": [
       "DecisionTreeClassifier()"
      ]
     },
     "execution_count": 18,
     "metadata": {},
     "output_type": "execute_result"
    }
   ],
   "source": [
    "from sklearn.tree import DecisionTreeClassifier\n",
    "\n",
    "tree = DecisionTreeClassifier()\n",
    "tree.fit(data_x,data_y)"
   ]
  },
  {
   "cell_type": "code",
   "execution_count": 19,
   "metadata": {},
   "outputs": [
    {
     "data": {
      "text/plain": [
       "count    99.000000\n",
       "mean      0.010101\n",
       "std       0.010491\n",
       "min       0.000000\n",
       "25%       0.003718\n",
       "50%       0.008000\n",
       "75%       0.013030\n",
       "max       0.053844\n",
       "dtype: float64"
      ]
     },
     "execution_count": 19,
     "metadata": {},
     "output_type": "execute_result"
    }
   ],
   "source": [
    "feature_tree = tree.feature_importances_\n",
    "feature_tree = pd.Series(feature_tree)\n",
    "feature_tree.describe()"
   ]
  },
  {
   "cell_type": "code",
   "execution_count": 20,
   "metadata": {},
   "outputs": [
    {
     "data": {
      "image/png": "[encoded data removed]",
      "text/plain": [
       "<Figure size 432x288 with 1 Axes>"
      ]
     },
     "metadata": {
      "needs_background": "light"
     },
     "output_type": "display_data"
    }
   ],
   "source": [
    "np.cumsum(tree.feature_importances_)\n",
    "plt.plot(range(len(tree.feature_importances_)),np.cumsum(tree.feature_importances_))\n",
    "plt.show()"
   ]
  },
  {
   "cell_type": "code",
   "execution_count": 21,
   "metadata": {},
   "outputs": [
    {
     "name": "stdout",
     "output_type": "stream",
     "text": [
      "39  >  0.01\n",
      "12  >  0.015\n",
      "7  >  0.02\n",
      "7  >  0.025\n",
      "6  >  0.03\n",
      "5  >  0.035\n",
      "4  >  0.04\n"
     ]
    }
   ],
   "source": [
    "for i in range(7):\n",
    "    m = 0.01 + i * 0.005\n",
    "    f = feature_tree > m\n",
    "    print(f.sum(),' > ',m)"
   ]
  },
  {
   "cell_type": "code",
   "execution_count": 22,
   "metadata": {},
   "outputs": [
    {
     "name": "stdout",
     "output_type": "stream",
     "text": [
      "<class 'pandas.core.frame.DataFrame'>\n",
      "RangeIndex: 42709 entries, 0 to 42708\n",
      "Data columns (total 39 columns):\n",
      " #   Column                               Non-Null Count  Dtype  \n",
      "---  ------                               --------------  -----  \n",
      " 0   index                                42709 non-null  int64  \n",
      " 1   player_age_x                         42709 non-null  float64\n",
      " 2   player_age_y                         42709 non-null  float64\n",
      " 3   player_rank_x                        42709 non-null  float64\n",
      " 4   player_rank_y                        42709 non-null  float64\n",
      " 5   season_sets_lost_x                   42709 non-null  int64  \n",
      " 6   season_games_won_x                   42709 non-null  int64  \n",
      " 7   season_games_played_x                42709 non-null  int64  \n",
      " 8   season_matches_won_x                 42709 non-null  int64  \n",
      " 9   season_surface_matches_won_x         42709 non-null  int64  \n",
      " 10  season_surface_matches_played_x      42709 non-null  int64  \n",
      " 11  career_surface_matches_won_x         42709 non-null  int64  \n",
      " 12  career_surface_matches_lost_x        42709 non-null  int64  \n",
      " 13  career_surface_matches_played_x      42709 non-null  int64  \n",
      " 14  career_surface_tournaments_lost_x    42709 non-null  int64  \n",
      " 15  career_surface_tournaments_played_x  42709 non-null  int64  \n",
      " 16  career_matches_won_x                 42709 non-null  int64  \n",
      " 17  career_matches_played_x              42709 non-null  int64  \n",
      " 18  career_tournaments_won_x             42709 non-null  int64  \n",
      " 19  career_tournaments_played_x          42709 non-null  int64  \n",
      " 20  career_right_handed_won_x            42709 non-null  int64  \n",
      " 21  career_right_handed_lost_x           42709 non-null  int64  \n",
      " 22  career_left_handed_won_x             42709 non-null  int64  \n",
      " 23  career_left_handed_lost_x            42709 non-null  int64  \n",
      " 24  season_sets_won_y                    42709 non-null  int64  \n",
      " 25  season_sets_lost_y                   42709 non-null  int64  \n",
      " 26  season_games_won_y                   42709 non-null  int64  \n",
      " 27  season_games_played_y                42709 non-null  int64  \n",
      " 28  season_surface_matches_won_y         42709 non-null  int64  \n",
      " 29  season_surface_matches_played_y      42709 non-null  int64  \n",
      " 30  career_surface_matches_won_y         42709 non-null  int64  \n",
      " 31  career_surface_matches_lost_y        42709 non-null  int64  \n",
      " 32  career_surface_matches_played_y      42709 non-null  int64  \n",
      " 33  career_matches_won_y                 42709 non-null  int64  \n",
      " 34  career_matches_played_y              42709 non-null  int64  \n",
      " 35  career_right_handed_won_y            42709 non-null  int64  \n",
      " 36  career_right_handed_lost_y           42709 non-null  int64  \n",
      " 37  career_left_handed_won_y             42709 non-null  int64  \n",
      " 38  career_left_handed_lost_y            42709 non-null  int64  \n",
      "dtypes: float64(4), int64(35)\n",
      "memory usage: 12.7 MB\n"
     ]
    }
   ],
   "source": [
    "feature_mask = tree.feature_importances_ > 0.01\n",
    "feature_mask\n",
    "\n",
    "data_sub_ftimp = data_x.iloc[:,feature_mask]\n",
    "data_sub_ftimp.info()"
   ]
  },
  {
   "cell_type": "markdown",
   "metadata": {},
   "source": [
    "# Dataset sub 3"
   ]
  },
  {
   "cell_type": "markdown",
   "metadata": {},
   "source": [
    "Utilizo el metodo de los k mejores features, ver nootebook \"feature_selection\""
   ]
  },
  {
   "cell_type": "code",
   "execution_count": 23,
   "metadata": {},
   "outputs": [
    {
     "data": {
      "text/html": [
       "<div>\n",
       "<style scoped>\n",
       "    .dataframe tbody tr th:only-of-type {\n",
       "        vertical-align: middle;\n",
       "    }\n",
       "\n",
       "    .dataframe tbody tr th {\n",
       "        vertical-align: top;\n",
       "    }\n",
       "\n",
       "    .dataframe thead th {\n",
       "        text-align: right;\n",
       "    }\n",
       "</style>\n",
       "<table border=\"1\" class=\"dataframe\">\n",
       "  <thead>\n",
       "    <tr style=\"text-align: right;\">\n",
       "      <th></th>\n",
       "      <th>F Score</th>\n",
       "      <th>P Value</th>\n",
       "      <th>Support</th>\n",
       "      <th>Attribute</th>\n",
       "    </tr>\n",
       "  </thead>\n",
       "  <tbody>\n",
       "    <tr>\n",
       "      <th>35</th>\n",
       "      <td>735.737923</td>\n",
       "      <td>1.171658e-160</td>\n",
       "      <td>True</td>\n",
       "      <td>career_matches_won_x</td>\n",
       "    </tr>\n",
       "    <tr>\n",
       "      <th>41</th>\n",
       "      <td>735.594227</td>\n",
       "      <td>1.257528e-160</td>\n",
       "      <td>True</td>\n",
       "      <td>career_right_handed_won_x</td>\n",
       "    </tr>\n",
       "    <tr>\n",
       "      <th>38</th>\n",
       "      <td>728.883214</td>\n",
       "      <td>3.421227e-159</td>\n",
       "      <td>True</td>\n",
       "      <td>career_tournaments_won_x</td>\n",
       "    </tr>\n",
       "    <tr>\n",
       "      <th>29</th>\n",
       "      <td>694.631856</td>\n",
       "      <td>7.245993e-152</td>\n",
       "      <td>True</td>\n",
       "      <td>career_surface_matches_won_x</td>\n",
       "    </tr>\n",
       "    <tr>\n",
       "      <th>43</th>\n",
       "      <td>692.951027</td>\n",
       "      <td>1.658697e-151</td>\n",
       "      <td>True</td>\n",
       "      <td>career_left_handed_won_x</td>\n",
       "    </tr>\n",
       "    <tr>\n",
       "      <th>...</th>\n",
       "      <td>...</td>\n",
       "      <td>...</td>\n",
       "      <td>...</td>\n",
       "      <td>...</td>\n",
       "    </tr>\n",
       "    <tr>\n",
       "      <th>89</th>\n",
       "      <td>1.876444</td>\n",
       "      <td>1.707460e-01</td>\n",
       "      <td>False</td>\n",
       "      <td>player_hand_y_R</td>\n",
       "    </tr>\n",
       "    <tr>\n",
       "      <th>9</th>\n",
       "      <td>0.611255</td>\n",
       "      <td>4.343200e-01</td>\n",
       "      <td>False</td>\n",
       "      <td>tournament_games_lost_x</td>\n",
       "    </tr>\n",
       "    <tr>\n",
       "      <th>88</th>\n",
       "      <td>0.508489</td>\n",
       "      <td>4.757977e-01</td>\n",
       "      <td>False</td>\n",
       "      <td>player_hand_y_L</td>\n",
       "    </tr>\n",
       "    <tr>\n",
       "      <th>93</th>\n",
       "      <td>0.008993</td>\n",
       "      <td>9.244499e-01</td>\n",
       "      <td>False</td>\n",
       "      <td>tournament_match_surface_x_Grass</td>\n",
       "    </tr>\n",
       "    <tr>\n",
       "      <th>97</th>\n",
       "      <td>0.008993</td>\n",
       "      <td>9.244499e-01</td>\n",
       "      <td>False</td>\n",
       "      <td>tournament_match_surface_y_Grass</td>\n",
       "    </tr>\n",
       "  </tbody>\n",
       "</table>\n",
       "<p>99 rows × 4 columns</p>\n",
       "</div>"
      ],
      "text/plain": [
       "       F Score        P Value  Support                         Attribute\n",
       "35  735.737923  1.171658e-160     True              career_matches_won_x\n",
       "41  735.594227  1.257528e-160     True         career_right_handed_won_x\n",
       "38  728.883214  3.421227e-159     True          career_tournaments_won_x\n",
       "29  694.631856  7.245993e-152     True      career_surface_matches_won_x\n",
       "43  692.951027  1.658697e-151     True          career_left_handed_won_x\n",
       "..         ...            ...      ...                               ...\n",
       "89    1.876444   1.707460e-01    False                   player_hand_y_R\n",
       "9     0.611255   4.343200e-01    False           tournament_games_lost_x\n",
       "88    0.508489   4.757977e-01    False                   player_hand_y_L\n",
       "93    0.008993   9.244499e-01    False  tournament_match_surface_x_Grass\n",
       "97    0.008993   9.244499e-01    False  tournament_match_surface_y_Grass\n",
       "\n",
       "[99 rows x 4 columns]"
      ]
     },
     "execution_count": 23,
     "metadata": {},
     "output_type": "execute_result"
    }
   ],
   "source": [
    "from sklearn.feature_selection import SelectKBest, f_classif, f_regression\n",
    "\n",
    "def select_kbest_reg(data_x,data_y,k=30,clasification=True):\n",
    "    \"\"\"\n",
    "    Seleccionado K-Best features para regresión\n",
    "    :param data_frame: Un dataframe con datos\n",
    "    :param target: target en el dataframe\n",
    "    :param k: cantidad deseada de features\n",
    "    :devuelve un dataframe llamado feature_scores con los scores para cada feature\n",
    "    \"\"\"\n",
    "    if clasification:\n",
    "        f_function = f_classif\n",
    "    else:\n",
    "        f_function = f_regression\n",
    "        \n",
    "        \n",
    "    feat_selector = SelectKBest(f_function, k=k)    \n",
    "    _ = feat_selector.fit(data_x,data_y)\n",
    "    \n",
    "    feat_scores = pd.DataFrame()\n",
    "    feat_scores[\"F Score\"] = feat_selector.scores_\n",
    "    feat_scores[\"P Value\"] = feat_selector.pvalues_\n",
    "    feat_scores[\"Support\"] = feat_selector.get_support()\n",
    "    feat_scores[\"Attribute\"] = data_x.columns\n",
    "    \n",
    "    return feat_scores\n",
    "\n",
    "kbest_feat = select_kbest_reg(data_x,data_y, k=30, clasification = True)\n",
    "kbest_feat = kbest_feat.sort_values([\"F Score\", \"P Value\"], ascending=[False, False])\n",
    "kbest_feat"
   ]
  },
  {
   "cell_type": "code",
   "execution_count": 24,
   "metadata": {},
   "outputs": [],
   "source": [
    "k_best_30 = kbest_feat['Support'].index[:30]"
   ]
  },
  {
   "cell_type": "code",
   "execution_count": 25,
   "metadata": {},
   "outputs": [],
   "source": [
    "data_sub_k_ftsel = data_x.iloc[:,k_best_30]"
   ]
  },
  {
   "cell_type": "markdown",
   "metadata": {},
   "source": [
    "# Eliminación Recursiva de Features con Cross Validation (RFECV)"
   ]
  },
  {
   "cell_type": "code",
   "execution_count": 26,
   "metadata": {},
   "outputs": [],
   "source": [
    "from sklearn.feature_selection import RFECV\n",
    "from sklearn.model_selection import KFold\n",
    "from sklearn.linear_model import LinearRegression"
   ]
  },
  {
   "cell_type": "code",
   "execution_count": 28,
   "metadata": {},
   "outputs": [],
   "source": [
    "# kf = KFold(n_splits=5, shuffle = True)\n",
    "# estimator = DecisionTreeClassifier()\n",
    "# selector = RFECV(LinearRegression, step = 10, cv=kf, scoring ='neg_mean_squared_error' ,verbose=2)\n",
    "# selector.fit(data_x, data_y)"
   ]
  },
  {
   "cell_type": "code",
   "execution_count": null,
   "metadata": {},
   "outputs": [],
   "source": [
    "# Seguir...No funciona por ahora"
   ]
  },
  {
   "cell_type": "markdown",
   "metadata": {},
   "source": [
    "## Juntamos los datasets"
   ]
  },
  {
   "cell_type": "code",
   "execution_count": 29,
   "metadata": {},
   "outputs": [],
   "source": [
    "datasets = []\n",
    "\n",
    "datasets.append(data_sub_pca)\n",
    "datasets.append(data_sub_ftimp)\n",
    "datasets.append(data_sub_k_ftsel)"
   ]
  },
  {
   "cell_type": "markdown",
   "metadata": {},
   "source": [
    "# Model Deployment"
   ]
  },
  {
   "cell_type": "code",
   "execution_count": 30,
   "metadata": {},
   "outputs": [],
   "source": [
    "from sklearn.model_selection import train_test_split\n",
    "from sklearn.metrics import accuracy_score\n",
    "from sklearn.metrics import confusion_matrix\n",
    "from sklearn.model_selection import GridSearchCV"
   ]
  },
  {
   "cell_type": "markdown",
   "metadata": {},
   "source": [
    "## Bagging"
   ]
  },
  {
   "cell_type": "markdown",
   "metadata": {},
   "source": [
    "#### Warning: La performance de este modelo puede afectar el rendimiento de la computadora (Saltear)"
   ]
  },
  {
   "cell_type": "code",
   "execution_count": 99,
   "metadata": {},
   "outputs": [
    {
     "name": "stderr",
     "output_type": "stream",
     "text": [
      "[Parallel(n_jobs=6)]: Using backend LokyBackend with 6 concurrent workers.\n",
      "[Parallel(n_jobs=6)]: Done   2 out of   6 | elapsed:   46.7s remaining:  1.6min\n",
      "[Parallel(n_jobs=6)]: Done   6 out of   6 | elapsed:   48.5s finished\n",
      "[Parallel(n_jobs=6)]: Using backend LokyBackend with 6 concurrent workers.\n",
      "[Parallel(n_jobs=6)]: Done   2 out of   6 | elapsed:    0.5s remaining:    1.0s\n",
      "[Parallel(n_jobs=6)]: Done   6 out of   6 | elapsed:    0.9s finished\n",
      "[Parallel(n_jobs=6)]: Using backend LokyBackend with 6 concurrent workers.\n",
      "[Parallel(n_jobs=6)]: Done   2 out of   6 | elapsed:    0.5s remaining:    1.0s\n",
      "[Parallel(n_jobs=6)]: Done   6 out of   6 | elapsed:    0.9s finished\n",
      "[Parallel(n_jobs=6)]: Using backend LokyBackend with 6 concurrent workers.\n"
     ]
    },
    {
     "name": "stdout",
     "output_type": "stream",
     "text": [
      "La matriz de confusión es: \n",
      " [[ 742 2150]\n",
      " [ 700 4950]] \n",
      "y su correspondiente accuracy es: 0.6663544837274643\n",
      "\n",
      "-----------------------------\n",
      "\n"
     ]
    },
    {
     "name": "stderr",
     "output_type": "stream",
     "text": [
      "[Parallel(n_jobs=6)]: Done   2 out of   6 | elapsed:   24.9s remaining:   49.8s\n",
      "[Parallel(n_jobs=6)]: Done   6 out of   6 | elapsed:   25.6s finished\n",
      "[Parallel(n_jobs=6)]: Using backend LokyBackend with 6 concurrent workers.\n",
      "[Parallel(n_jobs=6)]: Done   2 out of   6 | elapsed:    0.3s remaining:    0.7s\n",
      "[Parallel(n_jobs=6)]: Done   6 out of   6 | elapsed:    0.7s finished\n",
      "[Parallel(n_jobs=6)]: Using backend LokyBackend with 6 concurrent workers.\n",
      "[Parallel(n_jobs=6)]: Done   2 out of   6 | elapsed:    0.3s remaining:    0.7s\n",
      "[Parallel(n_jobs=6)]: Done   6 out of   6 | elapsed:    0.7s finished\n",
      "[Parallel(n_jobs=6)]: Using backend LokyBackend with 6 concurrent workers.\n"
     ]
    },
    {
     "name": "stdout",
     "output_type": "stream",
     "text": [
      "La matriz de confusión es: \n",
      " [[ 794 2098]\n",
      " [ 731 4919]] \n",
      "y su correspondiente accuracy es: 0.668812924373683\n",
      "\n",
      "-----------------------------\n",
      "\n"
     ]
    },
    {
     "name": "stderr",
     "output_type": "stream",
     "text": [
      "[Parallel(n_jobs=6)]: Done   2 out of   6 | elapsed:   17.0s remaining:   34.0s\n",
      "[Parallel(n_jobs=6)]: Done   6 out of   6 | elapsed:   17.3s finished\n",
      "[Parallel(n_jobs=6)]: Using backend LokyBackend with 6 concurrent workers.\n",
      "[Parallel(n_jobs=6)]: Done   2 out of   6 | elapsed:    0.3s remaining:    0.8s\n",
      "[Parallel(n_jobs=6)]: Done   6 out of   6 | elapsed:    0.7s finished\n",
      "[Parallel(n_jobs=6)]: Using backend LokyBackend with 6 concurrent workers.\n",
      "[Parallel(n_jobs=6)]: Done   2 out of   6 | elapsed:    0.3s remaining:    0.8s\n"
     ]
    },
    {
     "name": "stdout",
     "output_type": "stream",
     "text": [
      "La matriz de confusión es: \n",
      " [[ 742 2150]\n",
      " [ 804 4846]] \n",
      "y su correspondiente accuracy es: 0.6541793490985718\n",
      "\n",
      "-----------------------------\n",
      "\n"
     ]
    },
    {
     "name": "stderr",
     "output_type": "stream",
     "text": [
      "[Parallel(n_jobs=6)]: Done   6 out of   6 | elapsed:    0.7s finished\n"
     ]
    }
   ],
   "source": [
    "from sklearn.tree import DecisionTreeClassifier\n",
    "from sklearn.ensemble import BaggingClassifier\n",
    "\n",
    "# modelo\n",
    "clftree = DecisionTreeClassifier()\n",
    "bag_clf = BaggingClassifier(base_estimator=clftree, n_estimators=200,\n",
    "                            bootstrap=True,\n",
    "                            random_state=42,verbose=1, n_jobs=-1) \n",
    "# Entrenamos\n",
    "\n",
    "bag_accuracy_pca = 0\n",
    "bag_accuracy_ftimp = 0\n",
    "bag_accuracy_k_ftsel = 0\n",
    "\n",
    "for dataset in datasets:\n",
    "    X_train, X_test, y_train, y_test = train_test_split(dataset,data_y,test_size=0.2,random_state=42)\n",
    "    bag_clf.fit(X_train, y_train,)\n",
    "    confusion = confusion_matrix(y_test, bag_clf.predict(X_test))\n",
    "    accuracy = accuracy_score(y_test, bag_clf.predict(X_test))\n",
    "    print(f'La matriz de confusión es: ' '\\n', confusion,'\\n' 'y su correspondiente accuracy es:' ,accuracy)\n",
    "    print('\\n-----------------------------\\n')\n",
    "\n",
    "    if bag_accuracy_pca == 0:\n",
    "        bag_accuracy_pca = accuracy\n",
    "    elif bag_accuracy_ftimp == 0 and bag_accuracy_pca != 0:\n",
    "        bag_accuracy_ftimp = accuracy\n",
    "    else:\n",
    "        bag_accuracy_k_ftsel = accuracy"
   ]
  },
  {
   "cell_type": "code",
   "execution_count": 274,
   "metadata": {},
   "outputs": [
    {
     "name": "stdout",
     "output_type": "stream",
     "text": [
      " El accuracy con PCA da: 0.6663544837274643 \n",
      " El accuracy con Feature importance da: 0.668812924373683 \n",
      " El accuracy con Feature Selection da: 0.6541793490985718\n"
     ]
    }
   ],
   "source": [
    "print(f' El accuracy con PCA da:',bag_accuracy_pca, '\\n', 'El accuracy con Feature importance da:',bag_accuracy_ftimp,'\\n','El accuracy con Feature Selection da:',bag_accuracy_k_ftsel)"
   ]
  },
  {
   "cell_type": "markdown",
   "metadata": {},
   "source": [
    "## Random Forest"
   ]
  },
  {
   "cell_type": "code",
   "execution_count": 36,
   "metadata": {},
   "outputs": [
    {
     "data": {
      "text/plain": [
       "({'max_depth': 7, 'min_samples_split': 10, 'n_estimators': 100},\n",
       " 0.6143940059121374)"
      ]
     },
     "execution_count": 36,
     "metadata": {},
     "output_type": "execute_result"
    }
   ],
   "source": [
    "from sklearn.ensemble import RandomForestClassifier\n",
    "\n",
    "rf_clf = RandomForestClassifier(n_jobs=-1 ,class_weight='balanced',random_state=42,verbose=1)\n",
    "params = {  \n",
    "    \"n_estimators\": [25,50,100,500,1000],      # Number of boosted trees to fit.\n",
    "    \"max_depth\": [3,5,7],            # Maximum tree depth for base learners.\n",
    "    'min_samples_split':[2,5,10]\n",
    "}\n",
    "rf_clf = GridSearchCV(rf_clf, param_grid=params, cv=3, verbose=1, n_jobs=-1)\n",
    "\n",
    "rf_clf.fit(X_train,y_train)\n",
    "\n",
    "rf_clf.best_params_,rf_clf.best_score_"
   ]
  },
  {
   "cell_type": "code",
   "execution_count": 92,
   "metadata": {
    "collapsed": true,
    "jupyter": {
     "outputs_hidden": true
    }
   },
   "outputs": [
    {
     "name": "stderr",
     "output_type": "stream",
     "text": [
      "[Parallel(n_jobs=-1)]: Using backend ThreadingBackend with 6 concurrent workers.\n",
      "[Parallel(n_jobs=-1)]: Done  38 tasks      | elapsed:    1.0s\n",
      "[Parallel(n_jobs=-1)]: Done 188 tasks      | elapsed:    4.7s\n",
      "[Parallel(n_jobs=-1)]: Done 438 tasks      | elapsed:   11.0s\n",
      "[Parallel(n_jobs=-1)]: Done 788 tasks      | elapsed:   20.0s\n",
      "[Parallel(n_jobs=-1)]: Done 1000 out of 1000 | elapsed:   25.3s finished\n",
      "[Parallel(n_jobs=6)]: Using backend ThreadingBackend with 6 concurrent workers.\n",
      "[Parallel(n_jobs=6)]: Done  38 tasks      | elapsed:    0.0s\n",
      "[Parallel(n_jobs=6)]: Done 188 tasks      | elapsed:    0.1s\n",
      "[Parallel(n_jobs=6)]: Done 438 tasks      | elapsed:    0.2s\n",
      "[Parallel(n_jobs=6)]: Done 788 tasks      | elapsed:    0.3s\n",
      "[Parallel(n_jobs=6)]: Done 1000 out of 1000 | elapsed:    0.4s finished\n",
      "[Parallel(n_jobs=6)]: Using backend ThreadingBackend with 6 concurrent workers.\n",
      "[Parallel(n_jobs=6)]: Done  38 tasks      | elapsed:    0.0s\n",
      "[Parallel(n_jobs=6)]: Done 188 tasks      | elapsed:    0.1s\n",
      "[Parallel(n_jobs=6)]: Done 438 tasks      | elapsed:    0.2s\n",
      "[Parallel(n_jobs=6)]: Done 788 tasks      | elapsed:    0.4s\n",
      "[Parallel(n_jobs=6)]: Done 1000 out of 1000 | elapsed:    0.5s finished\n"
     ]
    },
    {
     "name": "stdout",
     "output_type": "stream",
     "text": [
      "La matriz de confusión es: \n",
      " [[ 577 2315]\n",
      " [ 492 5158]] \n",
      "y su correspondiente accuracy es: 0.6713884336221025\n",
      "\n",
      "-----------------------------\n",
      "\n"
     ]
    },
    {
     "name": "stderr",
     "output_type": "stream",
     "text": [
      "[Parallel(n_jobs=-1)]: Using backend ThreadingBackend with 6 concurrent workers.\n",
      "[Parallel(n_jobs=-1)]: Done  38 tasks      | elapsed:    0.8s\n",
      "[Parallel(n_jobs=-1)]: Done 188 tasks      | elapsed:    3.8s\n",
      "[Parallel(n_jobs=-1)]: Done 438 tasks      | elapsed:    8.8s\n",
      "[Parallel(n_jobs=-1)]: Done 788 tasks      | elapsed:   16.1s\n",
      "[Parallel(n_jobs=-1)]: Done 1000 out of 1000 | elapsed:   20.5s finished\n",
      "[Parallel(n_jobs=6)]: Using backend ThreadingBackend with 6 concurrent workers.\n",
      "[Parallel(n_jobs=6)]: Done  38 tasks      | elapsed:    0.0s\n",
      "[Parallel(n_jobs=6)]: Done 188 tasks      | elapsed:    0.1s\n",
      "[Parallel(n_jobs=6)]: Done 438 tasks      | elapsed:    0.1s\n",
      "[Parallel(n_jobs=6)]: Done 788 tasks      | elapsed:    0.3s\n",
      "[Parallel(n_jobs=6)]: Done 1000 out of 1000 | elapsed:    0.4s finished\n",
      "[Parallel(n_jobs=6)]: Using backend ThreadingBackend with 6 concurrent workers.\n",
      "[Parallel(n_jobs=6)]: Done  38 tasks      | elapsed:    0.0s\n",
      "[Parallel(n_jobs=6)]: Done 188 tasks      | elapsed:    0.0s\n",
      "[Parallel(n_jobs=6)]: Done 438 tasks      | elapsed:    0.2s\n",
      "[Parallel(n_jobs=6)]: Done 788 tasks      | elapsed:    0.3s\n",
      "[Parallel(n_jobs=6)]: Done 1000 out of 1000 | elapsed:    0.4s finished\n"
     ]
    },
    {
     "name": "stdout",
     "output_type": "stream",
     "text": [
      "La matriz de confusión es: \n",
      " [[ 657 2235]\n",
      " [ 597 5053]] \n",
      "y su correspondiente accuracy es: 0.6684617185670803\n",
      "\n",
      "-----------------------------\n",
      "\n"
     ]
    },
    {
     "name": "stderr",
     "output_type": "stream",
     "text": [
      "[Parallel(n_jobs=-1)]: Using backend ThreadingBackend with 6 concurrent workers.\n",
      "[Parallel(n_jobs=-1)]: Done  38 tasks      | elapsed:    0.6s\n",
      "[Parallel(n_jobs=-1)]: Done 188 tasks      | elapsed:    2.9s\n",
      "[Parallel(n_jobs=-1)]: Done 438 tasks      | elapsed:    6.9s\n",
      "[Parallel(n_jobs=-1)]: Done 788 tasks      | elapsed:   12.5s\n",
      "[Parallel(n_jobs=-1)]: Done 1000 out of 1000 | elapsed:   15.8s finished\n",
      "[Parallel(n_jobs=6)]: Using backend ThreadingBackend with 6 concurrent workers.\n",
      "[Parallel(n_jobs=6)]: Done  38 tasks      | elapsed:    0.0s\n",
      "[Parallel(n_jobs=6)]: Done 188 tasks      | elapsed:    0.0s\n",
      "[Parallel(n_jobs=6)]: Done 438 tasks      | elapsed:    0.1s\n",
      "[Parallel(n_jobs=6)]: Done 788 tasks      | elapsed:    0.3s\n",
      "[Parallel(n_jobs=6)]: Done 1000 out of 1000 | elapsed:    0.4s finished\n",
      "[Parallel(n_jobs=6)]: Using backend ThreadingBackend with 6 concurrent workers.\n",
      "[Parallel(n_jobs=6)]: Done  38 tasks      | elapsed:    0.0s\n",
      "[Parallel(n_jobs=6)]: Done 188 tasks      | elapsed:    0.0s\n",
      "[Parallel(n_jobs=6)]: Done 438 tasks      | elapsed:    0.1s\n",
      "[Parallel(n_jobs=6)]: Done 788 tasks      | elapsed:    0.3s\n"
     ]
    },
    {
     "name": "stdout",
     "output_type": "stream",
     "text": [
      "La matriz de confusión es: \n",
      " [[ 695 2197]\n",
      " [ 736 4914]] \n",
      "y su correspondiente accuracy es: 0.6566377897447905\n",
      "\n",
      "-----------------------------\n",
      "\n"
     ]
    },
    {
     "name": "stderr",
     "output_type": "stream",
     "text": [
      "[Parallel(n_jobs=6)]: Done 1000 out of 1000 | elapsed:    0.4s finished\n"
     ]
    }
   ],
   "source": [
    "from sklearn.ensemble import RandomForestClassifier\n",
    "\n",
    "rf_clf = RandomForestClassifier(n_estimators=100,max_depth=7, min_samples_split=10, n_jobs=-1 ,random_state=42,verbose=1)\n",
    "\n",
    "rf_accuracy_pca = 0\n",
    "rf_accuracy_ftimp = 0\n",
    "rf_accuracy_k_ftsel = 0\n",
    "\n",
    "for dataset in datasets:\n",
    "    X_train, X_test, y_train, y_test = train_test_split(dataset,data_y,test_size=0.2,random_state=42)\n",
    "    rf_clf.fit(X_train, y_train)\n",
    "    confusion = confusion_matrix(y_test, rf_clf.predict(X_test))\n",
    "    accuracy = accuracy_score(y_test, rf_clf.predict(X_test))\n",
    "    print(f'La matriz de confusión es: ' '\\n', confusion,'\\n' 'y su correspondiente accuracy es:' ,accuracy)\n",
    "    print('\\n-----------------------------\\n')\n",
    "    \n",
    "    if rf_accuracy_pca == 0:\n",
    "        rf_accuracy_pca = accuracy\n",
    "    elif rf_accuracy_ftimp == 0 and rf_accuracy_pca != 0:\n",
    "        rf_accuracy_ftimp = accuracy\n",
    "    else:\n",
    "        rf_accuracy_k_ftsel = accuracy"
   ]
  },
  {
   "cell_type": "code",
   "execution_count": 275,
   "metadata": {},
   "outputs": [
    {
     "name": "stdout",
     "output_type": "stream",
     "text": [
      " El accuracy con PCA da: 0.6713884336221025 \n",
      " El accuracy con Feature importance da: 0.6684617185670803 \n",
      " El accuracy con Feature selection da: 0.6566377897447905\n"
     ]
    }
   ],
   "source": [
    "print(f' El accuracy con PCA da:',rf_accuracy_pca, '\\n', 'El accuracy con Feature importance da:',rf_accuracy_ftimp,'\\n','El accuracy con Feature selection da:',rf_accuracy_k_ftsel)"
   ]
  },
  {
   "cell_type": "markdown",
   "metadata": {},
   "source": [
    "## Extra Trees"
   ]
  },
  {
   "cell_type": "code",
   "execution_count": 33,
   "metadata": {},
   "outputs": [
    {
     "name": "stdout",
     "output_type": "stream",
     "text": [
      "Fitting 3 folds for each of 45 candidates, totalling 135 fits\n"
     ]
    },
    {
     "name": "stderr",
     "output_type": "stream",
     "text": [
      "[Parallel(n_jobs=-1)]: Using backend LokyBackend with 8 concurrent workers.\n",
      "[Parallel(n_jobs=-1)]: Done  34 tasks      | elapsed:   24.5s\n",
      "[Parallel(n_jobs=-1)]: Done 135 out of 135 | elapsed:  3.0min finished\n",
      "[Parallel(n_jobs=-1)]: Using backend ThreadingBackend with 8 concurrent workers.\n",
      "[Parallel(n_jobs=-1)]: Done  34 tasks      | elapsed:    0.6s\n",
      "[Parallel(n_jobs=-1)]: Done  50 out of  50 | elapsed:    0.8s finished\n"
     ]
    },
    {
     "data": {
      "text/plain": [
       "{'max_depth': 7, 'min_samples_split': 2, 'n_estimators': 50}"
      ]
     },
     "execution_count": 33,
     "metadata": {},
     "output_type": "execute_result"
    }
   ],
   "source": [
    "from sklearn.ensemble import ExtraTreesClassifier\n",
    "\n",
    "et = ExtraTreesClassifier(n_jobs=-1 ,class_weight='balanced',random_state=42,verbose=1)\n",
    "params = {  \n",
    "    \"n_estimators\": [25,50,100,500,1000],      # Number of boosted trees to fit.\n",
    "    \"max_depth\": [3,5,7],            # Maximum tree depth for base learners.\n",
    "    'min_samples_split':[2,5,10]\n",
    "}\n",
    "et_grid = GridSearchCV(et, param_grid=params, cv=3, verbose=1, n_jobs=-1)\n",
    "\n",
    "et_grid.fit(X_train,y_train)\n",
    "\n",
    "et_grid.best_params_"
   ]
  },
  {
   "cell_type": "code",
   "execution_count": 84,
   "metadata": {
    "collapsed": true,
    "jupyter": {
     "outputs_hidden": true
    }
   },
   "outputs": [
    {
     "name": "stderr",
     "output_type": "stream",
     "text": [
      "[Parallel(n_jobs=-1)]: Using backend ThreadingBackend with 6 concurrent workers.\n",
      "[Parallel(n_jobs=-1)]: Done  38 tasks      | elapsed:    0.6s\n",
      "[Parallel(n_jobs=-1)]: Done 188 tasks      | elapsed:    3.1s\n",
      "[Parallel(n_jobs=-1)]: Done 438 tasks      | elapsed:    7.3s\n",
      "[Parallel(n_jobs=-1)]: Done 500 out of 500 | elapsed:    8.5s finished\n",
      "[Parallel(n_jobs=6)]: Using backend ThreadingBackend with 6 concurrent workers.\n",
      "[Parallel(n_jobs=6)]: Done  38 tasks      | elapsed:    0.0s\n",
      "[Parallel(n_jobs=6)]: Done 188 tasks      | elapsed:    0.1s\n",
      "[Parallel(n_jobs=6)]: Done 438 tasks      | elapsed:    0.2s\n",
      "[Parallel(n_jobs=6)]: Done 500 out of 500 | elapsed:    0.3s finished\n",
      "[Parallel(n_jobs=6)]: Using backend ThreadingBackend with 6 concurrent workers.\n",
      "[Parallel(n_jobs=6)]: Done  38 tasks      | elapsed:    0.0s\n",
      "[Parallel(n_jobs=6)]: Done 188 tasks      | elapsed:    0.0s\n",
      "[Parallel(n_jobs=6)]: Done 438 tasks      | elapsed:    0.2s\n",
      "[Parallel(n_jobs=6)]: Done 500 out of 500 | elapsed:    0.2s finished\n"
     ]
    },
    {
     "name": "stdout",
     "output_type": "stream",
     "text": [
      "[[ 438 2454]\n",
      " [ 371 5279]] \n",
      " 0.6692811987824865\n",
      "\n",
      "-----------------------------\n",
      "\n"
     ]
    },
    {
     "name": "stderr",
     "output_type": "stream",
     "text": [
      "[Parallel(n_jobs=-1)]: Using backend ThreadingBackend with 6 concurrent workers.\n",
      "[Parallel(n_jobs=-1)]: Done  38 tasks      | elapsed:    0.3s\n",
      "[Parallel(n_jobs=-1)]: Done 188 tasks      | elapsed:    1.8s\n",
      "[Parallel(n_jobs=-1)]: Done 438 tasks      | elapsed:    4.4s\n",
      "[Parallel(n_jobs=-1)]: Done 500 out of 500 | elapsed:    5.0s finished\n",
      "[Parallel(n_jobs=6)]: Using backend ThreadingBackend with 6 concurrent workers.\n",
      "[Parallel(n_jobs=6)]: Done  38 tasks      | elapsed:    0.0s\n",
      "[Parallel(n_jobs=6)]: Done 188 tasks      | elapsed:    0.1s\n",
      "[Parallel(n_jobs=6)]: Done 438 tasks      | elapsed:    0.2s\n",
      "[Parallel(n_jobs=6)]: Done 500 out of 500 | elapsed:    0.3s finished\n",
      "[Parallel(n_jobs=6)]: Using backend ThreadingBackend with 6 concurrent workers.\n",
      "[Parallel(n_jobs=6)]: Done  38 tasks      | elapsed:    0.0s\n",
      "[Parallel(n_jobs=6)]: Done 188 tasks      | elapsed:    0.0s\n",
      "[Parallel(n_jobs=6)]: Done 438 tasks      | elapsed:    0.2s\n",
      "[Parallel(n_jobs=6)]: Done 500 out of 500 | elapsed:    0.2s finished\n"
     ]
    },
    {
     "name": "stdout",
     "output_type": "stream",
     "text": [
      "[[ 536 2356]\n",
      " [ 495 5155]] \n",
      " 0.6662374151252634\n",
      "\n",
      "-----------------------------\n",
      "\n"
     ]
    },
    {
     "name": "stderr",
     "output_type": "stream",
     "text": [
      "[Parallel(n_jobs=-1)]: Using backend ThreadingBackend with 6 concurrent workers.\n",
      "[Parallel(n_jobs=-1)]: Done  38 tasks      | elapsed:    0.3s\n",
      "[Parallel(n_jobs=-1)]: Done 188 tasks      | elapsed:    1.7s\n",
      "[Parallel(n_jobs=-1)]: Done 438 tasks      | elapsed:    3.9s\n",
      "[Parallel(n_jobs=-1)]: Done 500 out of 500 | elapsed:    4.5s finished\n",
      "[Parallel(n_jobs=6)]: Using backend ThreadingBackend with 6 concurrent workers.\n",
      "[Parallel(n_jobs=6)]: Done  38 tasks      | elapsed:    0.0s\n",
      "[Parallel(n_jobs=6)]: Done 188 tasks      | elapsed:    0.1s\n",
      "[Parallel(n_jobs=6)]: Done 438 tasks      | elapsed:    0.2s\n",
      "[Parallel(n_jobs=6)]: Done 500 out of 500 | elapsed:    0.2s finished\n",
      "[Parallel(n_jobs=6)]: Using backend ThreadingBackend with 6 concurrent workers.\n",
      "[Parallel(n_jobs=6)]: Done  38 tasks      | elapsed:    0.0s\n",
      "[Parallel(n_jobs=6)]: Done 188 tasks      | elapsed:    0.1s\n"
     ]
    },
    {
     "name": "stdout",
     "output_type": "stream",
     "text": [
      "[[ 707 2185]\n",
      " [ 878 4772]] \n",
      " 0.6414188714586748\n",
      "\n",
      "-----------------------------\n",
      "\n",
      " El accuracy con PCA da: 0.6692811987824865 \n",
      " El accuracy con Feature importance da: 0.6662374151252634 \n",
      " El accuracy con Feature importance da: 0.6414188714586748\n"
     ]
    },
    {
     "name": "stderr",
     "output_type": "stream",
     "text": [
      "[Parallel(n_jobs=6)]: Done 438 tasks      | elapsed:    0.2s\n",
      "[Parallel(n_jobs=6)]: Done 500 out of 500 | elapsed:    0.3s finished\n"
     ]
    }
   ],
   "source": [
    "from sklearn.ensemble import ExtraTreesClassifier\n",
    "\n",
    "et_accuracy_pca = 0\n",
    "et_accuracy_ftimp = 0\n",
    "et_accuracy_k_ftsel = 0\n",
    "\n",
    "et = ExtraTreesClassifier(n_estimators=50,max_depth=7, min_samples_split=2, class_weight='balanced', random_state=1,verbose=1,n_jobs=-1)\n",
    "\n",
    "for dataset in datasets:\n",
    "    X_train, X_test, y_train, y_test = train_test_split(dataset,data_y,test_size=0.2,random_state=42)\n",
    "    et.fit(X_train, y_train)\n",
    "    confusion = confusion_matrix(y_test, et.predict(X_test))\n",
    "    accuracy = accuracy_score(y_test, et.predict(X_test))\n",
    "    print(confusion,'\\n',accuracy)\n",
    "    print('\\n-----------------------------\\n')\n",
    "    \n",
    "    if et_accuracy_pca == 0:\n",
    "        et_accuracy_pca = accuracy\n",
    "    elif et_accuracy_ftimp == 0 and et_accuracy_pca != 0:\n",
    "        et_accuracy_ftimp = accuracy\n",
    "    else:\n",
    "        et_accuracy_k_ftsel = accuracy\n",
    "\n",
    "print(f' El accuracy con PCA da:',et_accuracy_pca, '\\n', 'El accuracy con Feature importance da:',et_accuracy_ftimp,'\\n','El accuracy con Feature importance da:',et_accuracy_k_ftsel)"
   ]
  },
  {
   "cell_type": "markdown",
   "metadata": {},
   "source": [
    "## AdaBoost"
   ]
  },
  {
   "cell_type": "code",
   "execution_count": 44,
   "metadata": {},
   "outputs": [
    {
     "name": "stdout",
     "output_type": "stream",
     "text": [
      "Fitting 3 folds for each of 20 candidates, totalling 60 fits\n"
     ]
    },
    {
     "name": "stderr",
     "output_type": "stream",
     "text": [
      "[Parallel(n_jobs=1)]: Using backend SequentialBackend with 1 concurrent workers.\n",
      "[Parallel(n_jobs=1)]: Done  60 out of  60 | elapsed:  1.6min finished\n"
     ]
    },
    {
     "data": {
      "text/plain": [
       "({'learning_rate': 0.01, 'n_estimators': 25}, 0.592735680627506)"
      ]
     },
     "execution_count": 44,
     "metadata": {},
     "output_type": "execute_result"
    }
   ],
   "source": [
    "from sklearn.ensemble import AdaBoostClassifier\n",
    "\n",
    "ada_boost = AdaBoostClassifier(base_estimator=DecisionTreeClassifier(random_state=42),random_state=42)\n",
    "params = {  \n",
    "    \"n_estimators\": [25,50,100,500,1000],      # Number of boosted trees to fit.\n",
    "    \"learning_rate\": [0.01,0.1,0.05,0.15],            # Maximum tree depth for base learners.\n",
    "}\n",
    "ada_grid = GridSearchCV(ada_boost, param_grid=params, cv=3, verbose=1)\n",
    "\n",
    "ada_grid.fit(X_train,y_train)\n",
    "\n",
    "ada_grid.best_params_,ada_grid.best_score_"
   ]
  },
  {
   "cell_type": "code",
   "execution_count": 80,
   "metadata": {},
   "outputs": [
    {
     "name": "stdout",
     "output_type": "stream",
     "text": [
      "[[1197 1695]\n",
      " [1726 3924]] \n",
      " 0.5995083118707563\n",
      "\n",
      "-----------------------------\n",
      "\n",
      "[[1171 1721]\n",
      " [1762 3888]] \n",
      " 0.5922500585343011\n",
      "\n",
      "-----------------------------\n",
      "\n",
      "[[1187 1705]\n",
      " [1801 3849]] \n",
      " 0.5895574806836806\n",
      "\n",
      "-----------------------------\n",
      "\n"
     ]
    }
   ],
   "source": [
    "ab_accuracy_pca = 0\n",
    "ab_accuracy_ftimp = 0\n",
    "ab_accuracy_k_ftsel = 0\n",
    "\n",
    "ab = AdaBoostClassifier(base_estimator=DecisionTreeClassifier(random_state=42), n_estimators=25,,learning_rate=0.01,random_state=1)\n",
    "for dataset in datasets:\n",
    "\n",
    "    \n",
    "    X_train, X_test, y_train, y_test = train_test_split(dataset,data_y,test_size=0.2,random_state=42)\n",
    "    ab.fit(X_train, y_train)\n",
    "    confusion = confusion_matrix(y_test, ab.predict(X_test))\n",
    "    accuracy = accuracy_score(y_test, ab.predict(X_test))\n",
    "    print(confusion,'\\n',accuracy)\n",
    "    print('\\n-----------------------------\\n')\n",
    "    \n",
    "    if ab_accuracy_pca == 0:\n",
    "        ab_accuracy_pca = accuracy\n",
    "    elif ab_accuracy_ftimp == 0 and ab_accuracy_pca != 0:\n",
    "        ab_accuracy_ftimp = accuracy\n",
    "    else:\n",
    "        ab_accuracy_k_ftsel = accuracy"
   ]
  },
  {
   "cell_type": "code",
   "execution_count": 276,
   "metadata": {},
   "outputs": [
    {
     "name": "stdout",
     "output_type": "stream",
     "text": [
      " El accuracy con PCA da: 0.5995083118707563 \n",
      " El accuracy con Feature importance da: 0.5922500585343011 \n",
      " El accuracy con Feature selection da: 0.5895574806836806\n"
     ]
    }
   ],
   "source": [
    "print(f' El accuracy con PCA da:',ab_accuracy_pca, '\\n', 'El accuracy con Feature importance da:',ab_accuracy_ftimp,'\\n','El accuracy con Feature selection da:',ab_accuracy_k_ftsel)"
   ]
  },
  {
   "cell_type": "markdown",
   "metadata": {},
   "source": [
    "## XGBoost"
   ]
  },
  {
   "cell_type": "code",
   "execution_count": 94,
   "metadata": {},
   "outputs": [],
   "source": [
    "from xgboost.sklearn import XGBClassifier"
   ]
  },
  {
   "cell_type": "code",
   "execution_count": 95,
   "metadata": {},
   "outputs": [
    {
     "name": "stdout",
     "output_type": "stream",
     "text": [
      "Fitting 3 folds for each of 36 candidates, totalling 108 fits\n"
     ]
    },
    {
     "data": {
      "text/plain": [
       "{'learning_rate': 0.15, 'max_depth': 3, 'n_estimators': 50}"
      ]
     },
     "execution_count": 95,
     "metadata": {},
     "output_type": "execute_result"
    }
   ],
   "source": [
    "from sklearn.model_selection import GridSearchCV\n",
    "\n",
    "model_xg = XGBClassifier(n_jobs=-1)\n",
    "params = {  \n",
    "    \"n_estimators\": [25,50,100],      # Number of boosted trees to fit.\n",
    "    \"max_depth\": [3,4,5,6],            # Maximum tree depth for base learners.\n",
    "    \"learning_rate\": [0.05, 0.1,0.15],      # Boosting learning rate (xgb’s “eta”)\n",
    "}\n",
    "xgb = GridSearchCV(model_xg, param_grid=params, cv=3, verbose=1, n_jobs=-1)\n",
    "\n",
    "xgb.fit(X_train,y_train)\n",
    "\n",
    "xgb.best_params_"
   ]
  },
  {
   "cell_type": "code",
   "execution_count": 97,
   "metadata": {},
   "outputs": [
    {
     "name": "stdout",
     "output_type": "stream",
     "text": [
      "[[ 466 2426]\n",
      " [ 327 5323]] \n",
      " 0.6777101381409506\n",
      "\n",
      "-----------------------------\n",
      "\n",
      "[[ 470 2422]\n",
      " [ 335 5315]] \n",
      " 0.677241863732147\n",
      "\n",
      "-----------------------------\n",
      "\n",
      "[[ 345 2547]\n",
      " [ 287 5363]] \n",
      " 0.6682275813626786\n",
      "\n",
      "-----------------------------\n",
      "\n"
     ]
    }
   ],
   "source": [
    "model_xg_final = XGBClassifier(n_estimators=50,learning_rate=0.15,max_depth=3,n_jobs=-1)\n",
    "\n",
    "xgb_accuracy_pca = 0\n",
    "xgb_accuracy_ftimp = 0\n",
    "xgb_accuracy_k_ftsel = 0\n",
    "\n",
    "for dataset in datasets:\n",
    "    X_train, X_test, y_train, y_test = train_test_split(dataset,data_y,test_size=0.2,random_state=42)\n",
    "    model_xg_final.fit(X_train, y_train)\n",
    "    confusion = confusion_matrix(y_test, model_xg_final.predict(X_test))\n",
    "    accuracy = accuracy_score(y_test, model_xg_final.predict(X_test))\n",
    "    print(confusion,'\\n',accuracy)\n",
    "    print('\\n-----------------------------\\n')\n",
    "\n",
    "    if xgb_accuracy_pca == 0:\n",
    "        xgb_accuracy_pca = accuracy\n",
    "    elif xgb_accuracy_ftimp == 0 and xgb_accuracy_pca != 0:\n",
    "        xgb_accuracy_ftimp = accuracy\n",
    "    else:\n",
    "        xgb_accuracy_k_ftsel = accuracy"
   ]
  },
  {
   "cell_type": "code",
   "execution_count": 277,
   "metadata": {},
   "outputs": [
    {
     "name": "stdout",
     "output_type": "stream",
     "text": [
      " El accuracy con PCA da: 0.6777101381409506 \n",
      " El accuracy con Feature importance da: 0.677241863732147 \n",
      " El accuracy con Feature selection da: 0.6682275813626786\n"
     ]
    }
   ],
   "source": [
    "print(f' El accuracy con PCA da:',xgb_accuracy_pca, '\\n', 'El accuracy con Feature importance da:',xgb_accuracy_ftimp,'\\n','El accuracy con Feature selection da:',xgb_accuracy_k_ftsel)"
   ]
  },
  {
   "cell_type": "code",
   "execution_count": 66,
   "metadata": {},
   "outputs": [
    {
     "data": {
      "text/plain": [
       "1    0.663865\n",
       "0    0.336135\n",
       "Name: Label, dtype: float64"
      ]
     },
     "execution_count": 66,
     "metadata": {},
     "output_type": "execute_result"
    }
   ],
   "source": [
    "data_y.value_counts()/data_y.shape[0]"
   ]
  },
  {
   "cell_type": "markdown",
   "metadata": {},
   "source": [
    "# Evaluación de modelos"
   ]
  },
  {
   "cell_type": "markdown",
   "metadata": {},
   "source": [
    "### Evaluación de PCA en los modelos probados"
   ]
  },
  {
   "cell_type": "code",
   "execution_count": 350,
   "metadata": {},
   "outputs": [
    {
     "data": {
      "image/png": "[encoded data removed]",
      "text/plain": [
       "<Figure size 432x288 with 1 Axes>"
      ]
     },
     "metadata": {
      "needs_background": "light"
     },
     "output_type": "display_data"
    }
   ],
   "source": [
    "import numpy as np    \n",
    "categories_pca = {'bagging': bag_accuracy_pca, 'random forest': rf_accuracy_pca ,'extra trees': et_accuracy_pca, 'ada boost': ab_accuracy_pca,'xgboost': xgb_accuracy_pca}\n",
    "names = list(categories_pca.keys()) #nombre de las label\n",
    "values = list(categories_pca.values()) #valores de labels\n",
    "\n",
    "\n",
    "plt.bar(names,values)\n",
    "plt.ylim(0.5, 0.70)\n",
    "\n",
    "for index, value in enumerate(values):\n",
    "    plt.text(index-0.32, value+0.005, round(float(value),5))\n",
    "\n",
    "plt.show()"
   ]
  },
  {
   "cell_type": "markdown",
   "metadata": {},
   "source": [
    "### Evaluación de Feature importance en los modelos probados"
   ]
  },
  {
   "cell_type": "code",
   "execution_count": 348,
   "metadata": {},
   "outputs": [
    {
     "data": {
      "image/png": "[encoded data removed]",
      "text/plain": [
       "<Figure size 432x288 with 1 Axes>"
      ]
     },
     "metadata": {
      "needs_background": "light"
     },
     "output_type": "display_data"
    }
   ],
   "source": [
    "import numpy as np    \n",
    "categories_ftimp = {'bagging': bag_accuracy_ftimp, 'random forest': rf_accuracy_ftimp ,'extra trees': et_accuracy_ftimp, 'ada boost': ab_accuracy_ftimp,'xgboost': xgb_accuracy_ftimp}\n",
    "names = list(categories_ftimp.keys())    \n",
    "values = list(categories_ftimp.values())\n",
    "\n",
    "\n",
    "plt.bar(names,values)\n",
    "plt.ylim(0.5, 0.70)\n",
    "\n",
    "for index, value in enumerate(values):\n",
    "    plt.text(index-0.32, value+0.005, round(float(value),5))\n",
    "\n",
    "plt.show()"
   ]
  },
  {
   "cell_type": "markdown",
   "metadata": {},
   "source": [
    "### Evaluación de la selección de features bajo los mejores parámetros de K en los modelos probados"
   ]
  },
  {
   "cell_type": "code",
   "execution_count": 354,
   "metadata": {},
   "outputs": [
    {
     "data": {
      "image/png": "[encoded data removed]",
      "text/plain": [
       "<Figure size 432x288 with 1 Axes>"
      ]
     },
     "metadata": {
      "needs_background": "light"
     },
     "output_type": "display_data"
    }
   ],
   "source": [
    "import numpy as np    \n",
    "categories_k_ftsel = {'bagging': bag_accuracy_k_ftsel, 'random forest': rf_accuracy_k_ftsel ,'extra trees': et_accuracy_k_ftsel, 'ada boost': ab_accuracy_k_ftsel,'xgboost': xgb_accuracy_k_ftsel}\n",
    "names = list(categories_k_ftsel.keys())    \n",
    "values = list(categories_k_ftsel.values())\n",
    "\n",
    "\n",
    "plt.bar(names,values)\n",
    "plt.ylim(0.5, 0.70)\n",
    "\n",
    "for index, value in enumerate(values):\n",
    "    plt.text(index-0.32, value+0.005, round(float(value),5))\n",
    "\n",
    "plt.show()"
   ]
  },
  {
   "cell_type": "markdown",
   "metadata": {},
   "source": [
    "## Comparación de resultados de los modelos según cada método"
   ]
  },
  {
   "cell_type": "code",
   "execution_count": 357,
   "metadata": {},
   "outputs": [
    {
     "data": {
      "image/png": "[encoded data removed]",
      "text/plain": [
       "<Figure size 1080x360 with 1 Axes>"
      ]
     },
     "metadata": {
      "needs_background": "light"
     },
     "output_type": "display_data"
    }
   ],
   "source": [
    "## import matplotlib\n",
    "import matplotlib.pyplot as plt\n",
    "import numpy as np\n",
    "\n",
    "\n",
    "labels = ['bagging', 'random forest', 'extra trees', 'ada boost', 'xgboost']\n",
    "pca = [bag_accuracy_pca, rf_accuracy_pca , et_accuracy_pca, ab_accuracy_pca, xgb_accuracy_pca]\n",
    "ftimp = [bag_accuracy_ftimp, rf_accuracy_ftimp , et_accuracy_ftimp, ab_accuracy_ftimp, xgb_accuracy_ftimp]\n",
    "k_ftsel = [bag_accuracy_k_ftsel, rf_accuracy_k_ftsel , et_accuracy_k_ftsel, ab_accuracy_k_ftsel, xgb_accuracy_k_ftsel]\n",
    "\n",
    "x = np.arange(len(labels))  # the label locations\n",
    "width = 0.2  # the width of the bars\n",
    "\n",
    "fig, ax = plt.subplots(figsize=(15,5))\n",
    "rects1 = ax.bar(x + width/2, pca, width, label='PCA')\n",
    "rects2 = ax.bar(x - width/1, ftimp, width, label='Feature Importance')\n",
    "rects3 = ax.bar(x + width/0.5, k_ftsel, width, label='K means Feature Sel')\n",
    "\n",
    "# Add some text for labels, title and custom x-axis tick labels, etc.\n",
    "\n",
    "ax.set_ylabel('Accuracy')\n",
    "ax.set_title('Accuracy by model')\n",
    "ax.set_xticks(x)\n",
    "ax.set_xticklabels(labels)\n",
    "ax.legend(loc=\"lower center\", bbox_to_anchor=(0,0.01,2.2,0.02))\n",
    "\n",
    "#ax.legend(ncol=len(labels), loc=\"lower center\", bbox_to_anchor=(0,1.02,1,0.08), borderaxespad=0, mode=\"expand\")\n",
    "\n",
    "def autolabel(rects):\n",
    "    \"\"\"Attach a text label above each bar in *rects*, displaying its height.\"\"\"\n",
    "    for rect in rects:\n",
    "        height = rect.get_height()\n",
    "        ax.annotate(round(float(rect.get_height()),5), #decimals=5,\n",
    "                    xy=(rect.get_x() + rect.get_width() / 3, height),\n",
    "                    xytext=(0, 3),  # 3 points vertical offset\n",
    "                    textcoords=\"offset points\",\n",
    "                    ha='center', va='bottom')\n",
    "\n",
    "\n",
    "autolabel(rects1)\n",
    "autolabel(rects2)\n",
    "autolabel(rects3)\n",
    "\n",
    "fig.tight_layout()\n",
    "\n",
    "plt.ylim(0.5, 0.70)\n",
    "plt.show()"
   ]
  }
 ],
 "metadata": {
  "kernelspec": {
   "display_name": "dhdsblend",
   "language": "python",
   "name": "dhdsblend"
  },
  "language_info": {
   "codemirror_mode": {
    "name": "ipython",
    "version": 3
   },
   "file_extension": ".py",
   "mimetype": "text/x-python",
   "name": "python",
   "nbconvert_exporter": "python",
   "pygments_lexer": "ipython3",
   "version": "3.7.9"
  }
 },
 "nbformat": 4,
 "nbformat_minor": 4
}
